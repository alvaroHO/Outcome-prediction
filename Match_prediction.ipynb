{
 "cells": [
  {
   "cell_type": "markdown",
   "metadata": {},
   "source": [
    "# SOCCER ANALYTICS"
   ]
  },
  {
   "cell_type": "markdown",
   "metadata": {},
   "source": [
    "#### Prueba técnica de Álvaro Huete Oliva"
   ]
  },
  {
   "cell_type": "markdown",
   "metadata": {},
   "source": [
    "## Objetivo"
   ]
  },
  {
   "cell_type": "markdown",
   "metadata": {},
   "source": [
    "En este ejercicio se intenta predecir el **resultado final** de una muestra de partidos de fútbol de las principales ligas europeas. Para ello, contamos con una muestra de 14,000 partidos ocurridos en un período de 10 años de los que conocemos todos los eventos que se producen hasta el final de la primera parte del encuentro. Además, conocemos el resultado final para un conjunto de 13,000 encuentros. Nos encontramos por tanto ante un problema **supervisado de clasificación**."
   ]
  },
  {
   "cell_type": "markdown",
   "metadata": {},
   "source": [
    "## Importación de librerías"
   ]
  },
  {
   "cell_type": "markdown",
   "metadata": {},
   "source": [
    "Importamos las librerías que vamos a utilizar durante toda la prueba:"
   ]
  },
  {
   "cell_type": "code",
   "execution_count": 112,
   "metadata": {},
   "outputs": [],
   "source": [
    "import pandas as pd\n",
    "import numpy as np\n",
    "import matplotlib.pyplot as plt\n",
    "from sklearn.ensemble import RandomForestClassifier\n",
    "from yellowbrick.classifier import ClassPredictionError, PrecisionRecallCurve, ConfusionMatrix, ROCAUC\n",
    "from yellowbrick.target import ClassBalance\n",
    "from yellowbrick.model_selection import FeatureImportances\n",
    "from sklearn.metrics import precision_score, recall_score, f1_score, balanced_accuracy_score\n",
    "from xgboost import XGBClassifier\n",
    "from sklearn.model_selection import RandomizedSearchCV\n",
    "import seaborn as sns"
   ]
  },
  {
   "cell_type": "markdown",
   "metadata": {},
   "source": [
    "## Lectura de datos"
   ]
  },
  {
   "cell_type": "markdown",
   "metadata": {},
   "source": [
    "Cargamos los ficheros CSV y los leemos en formato Dataframe, para poder previsualizar los datos y ver qué formato y tamaño tienen:"
   ]
  },
  {
   "cell_type": "code",
   "execution_count": 2,
   "metadata": {},
   "outputs": [
    {
     "data": {
      "text/html": [
       "<div>\n",
       "<style scoped>\n",
       "    .dataframe tbody tr th:only-of-type {\n",
       "        vertical-align: middle;\n",
       "    }\n",
       "\n",
       "    .dataframe tbody tr th {\n",
       "        vertical-align: top;\n",
       "    }\n",
       "\n",
       "    .dataframe thead th {\n",
       "        text-align: right;\n",
       "    }\n",
       "</style>\n",
       "<table border=\"1\" class=\"dataframe\">\n",
       "  <thead>\n",
       "    <tr style=\"text-align: right;\">\n",
       "      <th></th>\n",
       "      <th>id_partido</th>\n",
       "      <th>temporada</th>\n",
       "      <th>id_equipo_local</th>\n",
       "      <th>id_equipo_visitante</th>\n",
       "      <th>id_jugador_local_1</th>\n",
       "      <th>id_jugador_local_2</th>\n",
       "      <th>id_jugador_local_3</th>\n",
       "      <th>id_jugador_local_4</th>\n",
       "      <th>id_jugador_local_5</th>\n",
       "      <th>id_jugador_local_6</th>\n",
       "      <th>...</th>\n",
       "      <th>id_jugador_visitante_3</th>\n",
       "      <th>id_jugador_visitante_4</th>\n",
       "      <th>id_jugador_visitante_5</th>\n",
       "      <th>id_jugador_visitante_6</th>\n",
       "      <th>id_jugador_visitante_7</th>\n",
       "      <th>id_jugador_visitante_8</th>\n",
       "      <th>id_jugador_visitante_9</th>\n",
       "      <th>id_jugador_visitante_10</th>\n",
       "      <th>id_jugador_visitante_11</th>\n",
       "      <th>ganador</th>\n",
       "    </tr>\n",
       "  </thead>\n",
       "  <tbody>\n",
       "    <tr>\n",
       "      <th>0</th>\n",
       "      <td>1</td>\n",
       "      <td>0</td>\n",
       "      <td>1</td>\n",
       "      <td>2</td>\n",
       "      <td>1</td>\n",
       "      <td>2</td>\n",
       "      <td>3</td>\n",
       "      <td>4</td>\n",
       "      <td>5</td>\n",
       "      <td>6</td>\n",
       "      <td>...</td>\n",
       "      <td>14</td>\n",
       "      <td>15</td>\n",
       "      <td>16</td>\n",
       "      <td>17</td>\n",
       "      <td>18</td>\n",
       "      <td>19</td>\n",
       "      <td>20</td>\n",
       "      <td>21</td>\n",
       "      <td>22</td>\n",
       "      <td>0</td>\n",
       "    </tr>\n",
       "    <tr>\n",
       "      <th>1</th>\n",
       "      <td>2</td>\n",
       "      <td>0</td>\n",
       "      <td>3</td>\n",
       "      <td>4</td>\n",
       "      <td>23</td>\n",
       "      <td>24</td>\n",
       "      <td>25</td>\n",
       "      <td>26</td>\n",
       "      <td>27</td>\n",
       "      <td>28</td>\n",
       "      <td>...</td>\n",
       "      <td>36</td>\n",
       "      <td>37</td>\n",
       "      <td>38</td>\n",
       "      <td>39</td>\n",
       "      <td>40</td>\n",
       "      <td>41</td>\n",
       "      <td>42</td>\n",
       "      <td>43</td>\n",
       "      <td>44</td>\n",
       "      <td>1</td>\n",
       "    </tr>\n",
       "    <tr>\n",
       "      <th>2</th>\n",
       "      <td>3</td>\n",
       "      <td>0</td>\n",
       "      <td>5</td>\n",
       "      <td>6</td>\n",
       "      <td>45</td>\n",
       "      <td>46</td>\n",
       "      <td>47</td>\n",
       "      <td>48</td>\n",
       "      <td>49</td>\n",
       "      <td>50</td>\n",
       "      <td>...</td>\n",
       "      <td>58</td>\n",
       "      <td>59</td>\n",
       "      <td>60</td>\n",
       "      <td>61</td>\n",
       "      <td>62</td>\n",
       "      <td>63</td>\n",
       "      <td>64</td>\n",
       "      <td>65</td>\n",
       "      <td>66</td>\n",
       "      <td>2</td>\n",
       "    </tr>\n",
       "    <tr>\n",
       "      <th>3</th>\n",
       "      <td>4</td>\n",
       "      <td>0</td>\n",
       "      <td>7</td>\n",
       "      <td>8</td>\n",
       "      <td>67</td>\n",
       "      <td>68</td>\n",
       "      <td>69</td>\n",
       "      <td>70</td>\n",
       "      <td>71</td>\n",
       "      <td>72</td>\n",
       "      <td>...</td>\n",
       "      <td>80</td>\n",
       "      <td>81</td>\n",
       "      <td>82</td>\n",
       "      <td>83</td>\n",
       "      <td>84</td>\n",
       "      <td>85</td>\n",
       "      <td>86</td>\n",
       "      <td>87</td>\n",
       "      <td>88</td>\n",
       "      <td>1</td>\n",
       "    </tr>\n",
       "    <tr>\n",
       "      <th>4</th>\n",
       "      <td>5</td>\n",
       "      <td>0</td>\n",
       "      <td>9</td>\n",
       "      <td>10</td>\n",
       "      <td>89</td>\n",
       "      <td>90</td>\n",
       "      <td>91</td>\n",
       "      <td>92</td>\n",
       "      <td>93</td>\n",
       "      <td>94</td>\n",
       "      <td>...</td>\n",
       "      <td>102</td>\n",
       "      <td>0</td>\n",
       "      <td>104</td>\n",
       "      <td>105</td>\n",
       "      <td>106</td>\n",
       "      <td>107</td>\n",
       "      <td>108</td>\n",
       "      <td>109</td>\n",
       "      <td>110</td>\n",
       "      <td>1</td>\n",
       "    </tr>\n",
       "  </tbody>\n",
       "</table>\n",
       "<p>5 rows × 27 columns</p>\n",
       "</div>"
      ],
      "text/plain": [
       "   id_partido  temporada  id_equipo_local  id_equipo_visitante  \\\n",
       "0           1          0                1                    2   \n",
       "1           2          0                3                    4   \n",
       "2           3          0                5                    6   \n",
       "3           4          0                7                    8   \n",
       "4           5          0                9                   10   \n",
       "\n",
       "   id_jugador_local_1  id_jugador_local_2  id_jugador_local_3  \\\n",
       "0                   1                   2                   3   \n",
       "1                  23                  24                  25   \n",
       "2                  45                  46                  47   \n",
       "3                  67                  68                  69   \n",
       "4                  89                  90                  91   \n",
       "\n",
       "   id_jugador_local_4  id_jugador_local_5  id_jugador_local_6   ...     \\\n",
       "0                   4                   5                   6   ...      \n",
       "1                  26                  27                  28   ...      \n",
       "2                  48                  49                  50   ...      \n",
       "3                  70                  71                  72   ...      \n",
       "4                  92                  93                  94   ...      \n",
       "\n",
       "   id_jugador_visitante_3  id_jugador_visitante_4  id_jugador_visitante_5  \\\n",
       "0                      14                      15                      16   \n",
       "1                      36                      37                      38   \n",
       "2                      58                      59                      60   \n",
       "3                      80                      81                      82   \n",
       "4                     102                       0                     104   \n",
       "\n",
       "   id_jugador_visitante_6  id_jugador_visitante_7  id_jugador_visitante_8  \\\n",
       "0                      17                      18                      19   \n",
       "1                      39                      40                      41   \n",
       "2                      61                      62                      63   \n",
       "3                      83                      84                      85   \n",
       "4                     105                     106                     107   \n",
       "\n",
       "   id_jugador_visitante_9  id_jugador_visitante_10  id_jugador_visitante_11  \\\n",
       "0                      20                       21                       22   \n",
       "1                      42                       43                       44   \n",
       "2                      64                       65                       66   \n",
       "3                      86                       87                       88   \n",
       "4                     108                      109                      110   \n",
       "\n",
       "   ganador  \n",
       "0        0  \n",
       "1        1  \n",
       "2        2  \n",
       "3        1  \n",
       "4        1  \n",
       "\n",
       "[5 rows x 27 columns]"
      ]
     },
     "execution_count": 2,
     "metadata": {},
     "output_type": "execute_result"
    }
   ],
   "source": [
    "train_matches = pd.read_csv('C:/Users/asus/Desktop/Fintonic/train_matches.csv')\n",
    "train_matches.head()"
   ]
  },
  {
   "cell_type": "code",
   "execution_count": 3,
   "metadata": {},
   "outputs": [
    {
     "data": {
      "text/plain": [
       "13000"
      ]
     },
     "execution_count": 3,
     "metadata": {},
     "output_type": "execute_result"
    }
   ],
   "source": [
    "train_matches.shape[0]"
   ]
  },
  {
   "cell_type": "code",
   "execution_count": 4,
   "metadata": {
    "collapsed": true
   },
   "outputs": [],
   "source": [
    "test_matches = pd.read_csv('C:/Users/asus/Desktop/Fintonic/test_matches.csv')"
   ]
  },
  {
   "cell_type": "code",
   "execution_count": 5,
   "metadata": {},
   "outputs": [
    {
     "data": {
      "text/html": [
       "<div>\n",
       "<style scoped>\n",
       "    .dataframe tbody tr th:only-of-type {\n",
       "        vertical-align: middle;\n",
       "    }\n",
       "\n",
       "    .dataframe tbody tr th {\n",
       "        vertical-align: top;\n",
       "    }\n",
       "\n",
       "    .dataframe thead th {\n",
       "        text-align: right;\n",
       "    }\n",
       "</style>\n",
       "<table border=\"1\" class=\"dataframe\">\n",
       "  <thead>\n",
       "    <tr style=\"text-align: right;\">\n",
       "      <th></th>\n",
       "      <th>evento</th>\n",
       "      <th>subtipo</th>\n",
       "      <th>subtipo2</th>\n",
       "      <th>id_jugador_1</th>\n",
       "      <th>id_jugador_2</th>\n",
       "      <th>id_equipo</th>\n",
       "      <th>lat</th>\n",
       "      <th>lon</th>\n",
       "      <th>minuto</th>\n",
       "      <th>minuto_descuento</th>\n",
       "      <th>id_partido</th>\n",
       "    </tr>\n",
       "  </thead>\n",
       "  <tbody>\n",
       "    <tr>\n",
       "      <th>0</th>\n",
       "      <td>GOL</td>\n",
       "      <td>NaN</td>\n",
       "      <td>NaN</td>\n",
       "      <td>7</td>\n",
       "      <td>-1</td>\n",
       "      <td>1</td>\n",
       "      <td>NaN</td>\n",
       "      <td>NaN</td>\n",
       "      <td>12</td>\n",
       "      <td>NaN</td>\n",
       "      <td>1</td>\n",
       "    </tr>\n",
       "    <tr>\n",
       "      <th>1</th>\n",
       "      <td>GOL</td>\n",
       "      <td>NaN</td>\n",
       "      <td>NaN</td>\n",
       "      <td>11</td>\n",
       "      <td>-1</td>\n",
       "      <td>1</td>\n",
       "      <td>NaN</td>\n",
       "      <td>NaN</td>\n",
       "      <td>16</td>\n",
       "      <td>NaN</td>\n",
       "      <td>1</td>\n",
       "    </tr>\n",
       "    <tr>\n",
       "      <th>2</th>\n",
       "      <td>GOL</td>\n",
       "      <td>NaN</td>\n",
       "      <td>NaN</td>\n",
       "      <td>21</td>\n",
       "      <td>-1</td>\n",
       "      <td>2</td>\n",
       "      <td>NaN</td>\n",
       "      <td>NaN</td>\n",
       "      <td>25</td>\n",
       "      <td>NaN</td>\n",
       "      <td>1</td>\n",
       "    </tr>\n",
       "    <tr>\n",
       "      <th>3</th>\n",
       "      <td>TARJETA AMARILLA</td>\n",
       "      <td>NaN</td>\n",
       "      <td>y</td>\n",
       "      <td>17</td>\n",
       "      <td>-1</td>\n",
       "      <td>2</td>\n",
       "      <td>NaN</td>\n",
       "      <td>NaN</td>\n",
       "      <td>19</td>\n",
       "      <td>NaN</td>\n",
       "      <td>1</td>\n",
       "    </tr>\n",
       "    <tr>\n",
       "      <th>4</th>\n",
       "      <td>TARJETA AMARILLA</td>\n",
       "      <td>NaN</td>\n",
       "      <td>y</td>\n",
       "      <td>21</td>\n",
       "      <td>-1</td>\n",
       "      <td>2</td>\n",
       "      <td>NaN</td>\n",
       "      <td>NaN</td>\n",
       "      <td>44</td>\n",
       "      <td>NaN</td>\n",
       "      <td>1</td>\n",
       "    </tr>\n",
       "  </tbody>\n",
       "</table>\n",
       "</div>"
      ],
      "text/plain": [
       "             evento subtipo subtipo2  id_jugador_1  id_jugador_2  id_equipo  \\\n",
       "0               GOL     NaN      NaN             7            -1          1   \n",
       "1               GOL     NaN      NaN            11            -1          1   \n",
       "2               GOL     NaN      NaN            21            -1          2   \n",
       "3  TARJETA AMARILLA     NaN        y            17            -1          2   \n",
       "4  TARJETA AMARILLA     NaN        y            21            -1          2   \n",
       "\n",
       "   lat  lon  minuto  minuto_descuento  id_partido  \n",
       "0  NaN  NaN      12               NaN           1  \n",
       "1  NaN  NaN      16               NaN           1  \n",
       "2  NaN  NaN      25               NaN           1  \n",
       "3  NaN  NaN      19               NaN           1  \n",
       "4  NaN  NaN      44               NaN           1  "
      ]
     },
     "execution_count": 5,
     "metadata": {},
     "output_type": "execute_result"
    }
   ],
   "source": [
    "events = pd.read_csv('C:/Users/asus/Desktop/Fintonic/events.csv')\n",
    "events.head()"
   ]
  },
  {
   "cell_type": "markdown",
   "metadata": {},
   "source": [
    "Veamos el tipo de cada variables y cuántos registros nulos contiene:"
   ]
  },
  {
   "cell_type": "code",
   "execution_count": 6,
   "metadata": {},
   "outputs": [
    {
     "name": "stdout",
     "output_type": "stream",
     "text": [
      "<class 'pandas.core.frame.DataFrame'>\n",
      "RangeIndex: 415805 entries, 0 to 415804\n",
      "Data columns (total 11 columns):\n",
      "evento              415805 non-null object\n",
      "subtipo             342222 non-null object\n",
      "subtipo2            22287 non-null object\n",
      "id_jugador_1        415805 non-null int64\n",
      "id_jugador_2        415805 non-null int64\n",
      "id_equipo           415805 non-null int64\n",
      "lat                 174228 non-null float64\n",
      "lon                 174228 non-null float64\n",
      "minuto              415805 non-null int64\n",
      "minuto_descuento    14992 non-null float64\n",
      "id_partido          415805 non-null int64\n",
      "dtypes: float64(3), int64(5), object(3)\n",
      "memory usage: 34.9+ MB\n"
     ]
    }
   ],
   "source": [
    "events.info()"
   ]
  },
  {
   "cell_type": "markdown",
   "metadata": {},
   "source": [
    "Frecuencia de cada evento:"
   ]
  },
  {
   "cell_type": "code",
   "execution_count": 7,
   "metadata": {},
   "outputs": [
    {
     "data": {
      "text/plain": [
       "evento\n",
       "CENTRO                                 114937\n",
       "CENTRO DE SAQUE DE BANDA                 4018\n",
       "CORNER                                  62238\n",
       "FALTA                                  106908\n",
       "GOL                                     17038\n",
       "GOL ANULADO                               264\n",
       "PENALTY FUERA                               1\n",
       "PENALTY PARADO                            309\n",
       "PENALTY REPETIDO                            7\n",
       "SEGUNDA TARJETA AMARILLA AL JUGADOR       244\n",
       "TARJETA AMARILLA                        21533\n",
       "TARJETA ROJA                              510\n",
       "TIRO A PORTERIA                         43270\n",
       "TIRO FUERA                              44528\n",
       "dtype: int64"
      ]
     },
     "execution_count": 7,
     "metadata": {},
     "output_type": "execute_result"
    }
   ],
   "source": [
    "events.groupby('evento').size()"
   ]
  },
  {
   "cell_type": "markdown",
   "metadata": {},
   "source": [
    "Veamos cómo se distribuyen las proporciones para cada resultado posible:"
   ]
  },
  {
   "cell_type": "code",
   "execution_count": 8,
   "metadata": {},
   "outputs": [
    {
     "data": {
      "text/plain": [
       "0    25.238462\n",
       "1    46.546154\n",
       "2    28.215385\n",
       "Name: 0, dtype: float64"
      ]
     },
     "execution_count": 8,
     "metadata": {},
     "output_type": "execute_result"
    }
   ],
   "source": [
    "t1 = (train_matches.groupby('ganador').size()/train_matches.shape[0]).reset_index()\n",
    "t1.iloc[:,1]*100"
   ]
  },
  {
   "cell_type": "code",
   "execution_count": 9,
   "metadata": {},
   "outputs": [
    {
     "data": {
      "image/png": "[encoded data removed]",
      "text/plain": [
       "<matplotlib.figure.Figure at 0x1ff39b78898>"
      ]
     },
     "metadata": {},
     "output_type": "display_data"
    }
   ],
   "source": [
    "x=['Victoria local','Victoria visitante','Empate']\n",
    "y = [t1.iloc[1,1]*100, t1.iloc[2,1]*100, t1.iloc[0,1]*100]\n",
    "plt.bar(x, y)\n",
    "plt.ylabel('% Partidos')\n",
    "plt.title('Distribución de resultados')\n",
    "plt.show()"
   ]
  },
  {
   "cell_type": "markdown",
   "metadata": {},
   "source": [
    "Podemos observar que el **46.5%** de los encuentros los gana el **equipo local**, 28.2% el equipo visitante y el 25.2% terminan en empate."
   ]
  },
  {
   "cell_type": "markdown",
   "metadata": {},
   "source": [
    "A continuación vamos a crear las variables que utilizaremos para nuestro modelo predictivo. Utilizaremos el dataframe de Eventos para obtener información de cada encuentro, así como datos históricos tanto para el equipo local como para el equipo visitante. Seleccionamos únicamente las variables que nos vayan a ser de utilidad para este modelo:"
   ]
  },
  {
   "cell_type": "code",
   "execution_count": 10,
   "metadata": {
    "collapsed": true
   },
   "outputs": [],
   "source": [
    "events2 = events[['evento', 'subtipo', 'id_equipo', 'minuto', 'minuto_descuento', 'id_partido']]"
   ]
  },
  {
   "cell_type": "code",
   "execution_count": 11,
   "metadata": {
    "collapsed": true
   },
   "outputs": [],
   "source": [
    "df_train = train_matches[['id_partido', 'temporada', 'id_equipo_local', 'id_equipo_visitante', 'ganador']]"
   ]
  },
  {
   "cell_type": "markdown",
   "metadata": {},
   "source": [
    "## Feature Engineering"
   ]
  },
  {
   "cell_type": "markdown",
   "metadata": {},
   "source": [
    "Utilizando el dataframe de eventos, podemos agrupar por partido y equipo datos que aportan información útil sobre el desarrollo del encuentro para que nos ayuden a estimar cuál será el resultado final.\n",
    "Además se tratan los datos nulos y datos atípicos para evitar que alteren los resultados del modelo."
   ]
  },
  {
   "cell_type": "markdown",
   "metadata": {},
   "source": [
    "### Goles anotados por cada equipo "
   ]
  },
  {
   "cell_type": "markdown",
   "metadata": {},
   "source": [
    "Para cada partido calculamos los goles que ha anotado cada equipo antes del descanso, y por tanto qué equipo va ganando al finalizar la primera parte y cuál es la diferencia de goles."
   ]
  },
  {
   "cell_type": "code",
   "execution_count": 12,
   "metadata": {
    "collapsed": true
   },
   "outputs": [],
   "source": [
    "goles = events2[events2.evento=='GOL'].groupby(\n",
    "    ['id_partido', 'id_equipo']).size().reset_index(name='goles')"
   ]
  },
  {
   "cell_type": "code",
   "execution_count": 13,
   "metadata": {
    "collapsed": true
   },
   "outputs": [],
   "source": [
    "df_goles_local = df_train.merge(\n",
    "    goles, \n",
    "    how='left', \n",
    "    left_on=['id_partido', 'id_equipo_local'], \n",
    "    right_on=['id_partido', 'id_equipo'])\n",
    "df_goles_local = df_goles_local.rename(columns={'goles':'goles_local'})\n",
    "df_goles_visitante = df_train.merge(\n",
    "    goles, \n",
    "    how='left', \n",
    "    left_on=['id_partido', 'id_equipo_visitante'], \n",
    "    right_on=['id_partido', 'id_equipo'])\n",
    "df_goles_visitante = df_goles_visitante.rename(columns={'goles':'goles_visitante'})\n",
    "df_goles = df_goles_local[['id_partido', 'temporada', 'goles_local']].merge(\n",
    "    df_goles_visitante[['id_partido', 'goles_visitante', 'ganador']], \n",
    "    how='inner', \n",
    "    on='id_partido')\n",
    "df_goles = df_goles.fillna(0) # Rellenamos los datos nulos con 0's, puesto que se trata de equipos \n",
    "                              # que no han anotado ningún gol. Análogamente para el resto de variables."
   ]
  },
  {
   "cell_type": "code",
   "execution_count": 14,
   "metadata": {
    "collapsed": true
   },
   "outputs": [],
   "source": [
    "df_goles['ganador_descanso'] = df_goles.apply(\n",
    "    lambda x: 1 if x['goles_local']>x['goles_visitante'] \n",
    "    else (2 if x['goles_local']<x['goles_visitante'] \n",
    "          else 0), axis=1)\n",
    "df_goles['diferencia_goles'] = df_goles['goles_local']-df_goles['goles_visitante']"
   ]
  },
  {
   "cell_type": "markdown",
   "metadata": {},
   "source": [
    "###  Centros por equipo"
   ]
  },
  {
   "cell_type": "markdown",
   "metadata": {},
   "source": [
    "Centros y centros de saque de banda para cada equipo."
   ]
  },
  {
   "cell_type": "code",
   "execution_count": 15,
   "metadata": {
    "collapsed": true
   },
   "outputs": [],
   "source": [
    "centros = events2[events2.evento.isin(['CENTRO', 'CENTRO DE SAQUE DE BANDA'])].groupby(\n",
    "    ['id_partido', 'id_equipo']).size().reset_index(name='centros')"
   ]
  },
  {
   "cell_type": "code",
   "execution_count": 16,
   "metadata": {
    "collapsed": true
   },
   "outputs": [],
   "source": [
    "df_centros_local = df_train.merge(\n",
    "    centros, \n",
    "    how='left', \n",
    "    left_on=['id_partido', 'id_equipo_local'], \n",
    "    right_on=['id_partido', 'id_equipo'])\n",
    "df_centros_local = df_centros_local.rename(columns={'centros':'centros_local'})\n",
    "df_centros_visitante = df_train.merge(\n",
    "    centros, \n",
    "    how='left', \n",
    "    left_on=['id_partido', 'id_equipo_visitante'], \n",
    "    right_on=['id_partido', 'id_equipo'])\n",
    "df_centros_visitante = df_centros_visitante.rename(columns={'centros':'centros_visitante'})\n",
    "df_centros = df_centros_local[['id_partido', 'centros_local']].merge(\n",
    "    df_centros_visitante[['id_partido', 'centros_visitante']], \n",
    "    how='inner', \n",
    "    on='id_partido')\n",
    "df_centros = df_centros.fillna(0)"
   ]
  },
  {
   "cell_type": "markdown",
   "metadata": {},
   "source": [
    "### Faltas de cada equipo"
   ]
  },
  {
   "cell_type": "markdown",
   "metadata": {},
   "source": [
    "Calculamos el numero de faltas cometidas por ambos equipos."
   ]
  },
  {
   "cell_type": "code",
   "execution_count": 17,
   "metadata": {
    "collapsed": true
   },
   "outputs": [],
   "source": [
    "faltas = events2[events2.evento=='FALTA'].groupby(\n",
    "    ['id_partido', 'id_equipo']).size().reset_index(name='faltas')"
   ]
  },
  {
   "cell_type": "code",
   "execution_count": 18,
   "metadata": {
    "collapsed": true
   },
   "outputs": [],
   "source": [
    "df_faltas_local = df_train.merge(\n",
    "    faltas, \n",
    "    how='left', \n",
    "    left_on=['id_partido', 'id_equipo_local'], \n",
    "    right_on=['id_partido', 'id_equipo'])\n",
    "df_faltas_local = df_faltas_local.rename(columns={'faltas':'faltas_local'})\n",
    "df_faltas_visitante = df_train.merge(\n",
    "    faltas, \n",
    "    how='left', \n",
    "    left_on=['id_partido', 'id_equipo_visitante'], \n",
    "    right_on=['id_partido', 'id_equipo'])\n",
    "df_faltas_visitante = df_faltas_visitante.rename(columns={'faltas':'faltas_visitante'})\n",
    "df_faltas = df_faltas_local[['id_partido', 'faltas_local']].merge(\n",
    "    df_faltas_visitante[['id_partido', 'faltas_visitante']], \n",
    "    how='inner', \n",
    "    on='id_partido')\n",
    "df_faltas = df_faltas.fillna(0)"
   ]
  },
  {
   "cell_type": "markdown",
   "metadata": {},
   "source": [
    "### Tiros a porteria"
   ]
  },
  {
   "cell_type": "code",
   "execution_count": 19,
   "metadata": {
    "collapsed": true
   },
   "outputs": [],
   "source": [
    "tiros_porteria = events2[events2.evento=='TIRO A PORTERIA'].groupby(\n",
    "    ['id_partido', 'id_equipo']).size().reset_index(name='tiros_porteria')"
   ]
  },
  {
   "cell_type": "code",
   "execution_count": 20,
   "metadata": {
    "collapsed": true
   },
   "outputs": [],
   "source": [
    "df_tiros_porteria_local = df_train.merge(\n",
    "    tiros_porteria, \n",
    "    how='left', \n",
    "    left_on=['id_partido', 'id_equipo_local'], \n",
    "    right_on=['id_partido', 'id_equipo'])\n",
    "df_tiros_porteria_local = df_tiros_porteria_local.rename(\n",
    "    columns={'tiros_porteria':'tiros_porteria_local'})\n",
    "df_tiros_porteria_visitante = df_train.merge(\n",
    "    tiros_porteria, \n",
    "    how='left', \n",
    "    left_on=['id_partido', 'id_equipo_visitante'], \n",
    "    right_on=['id_partido', 'id_equipo'])\n",
    "df_tiros_porteria_visitante = df_tiros_porteria_visitante.rename(\n",
    "    columns={'tiros_porteria':'tiros_porteria_visitante'})\n",
    "df_tiros_porteria = df_tiros_porteria_local[['id_partido', 'tiros_porteria_local']].merge(\n",
    "    df_tiros_porteria_visitante[['id_partido', 'tiros_porteria_visitante']], \n",
    "    how='inner', \n",
    "    on='id_partido')\n",
    "df_tiros_porteria = df_tiros_porteria.fillna(0)"
   ]
  },
  {
   "cell_type": "markdown",
   "metadata": {},
   "source": [
    "### Tiros fuera"
   ]
  },
  {
   "cell_type": "code",
   "execution_count": 21,
   "metadata": {
    "collapsed": true
   },
   "outputs": [],
   "source": [
    "tiros_fuera = events2[events2.evento=='TIRO FUERA'].groupby(\n",
    "    ['id_partido', 'id_equipo']).size().reset_index(name='tiros_fuera')"
   ]
  },
  {
   "cell_type": "code",
   "execution_count": 22,
   "metadata": {
    "collapsed": true
   },
   "outputs": [],
   "source": [
    "df_tiros_fuera_local = df_train.merge(\n",
    "    tiros_fuera, \n",
    "    how='left', \n",
    "    left_on=['id_partido', 'id_equipo_local'], \n",
    "    right_on=['id_partido', 'id_equipo'])\n",
    "df_tiros_fuera_local = df_tiros_fuera_local.rename(\n",
    "    columns={'tiros_fuera':'tiros_fuera_local'})\n",
    "df_tiros_fuera_visitante = df_train.merge(\n",
    "    tiros_fuera, \n",
    "    how='left', \n",
    "    left_on=['id_partido', 'id_equipo_visitante'], \n",
    "    right_on=['id_partido', 'id_equipo'])\n",
    "df_tiros_fuera_visitante = df_tiros_fuera_visitante.rename(\n",
    "    columns={'tiros_fuera':'tiros_fuera_visitante'})\n",
    "df_tiros_fuera = df_tiros_fuera_local[['id_partido', 'tiros_fuera_local']].merge(\n",
    "    df_tiros_fuera_visitante[['id_partido', 'tiros_fuera_visitante']], \n",
    "    how='inner', \n",
    "    on='id_partido')\n",
    "df_tiros_fuera = df_tiros_fuera.fillna(0)"
   ]
  },
  {
   "cell_type": "markdown",
   "metadata": {},
   "source": [
    "### Tarjetas amarillas de cada equipo"
   ]
  },
  {
   "cell_type": "code",
   "execution_count": 23,
   "metadata": {
    "collapsed": true
   },
   "outputs": [],
   "source": [
    "amarillas = events2[events2.evento=='TARJETA AMARILLA'].groupby(\n",
    "    ['id_partido', 'id_equipo']).size().reset_index(name='amarillas')"
   ]
  },
  {
   "cell_type": "code",
   "execution_count": 24,
   "metadata": {
    "collapsed": true
   },
   "outputs": [],
   "source": [
    "df_amarillas_local = df_train.merge(\n",
    "    amarillas, \n",
    "    how='left', \n",
    "    left_on=['id_partido', 'id_equipo_local'], \n",
    "    right_on=['id_partido', 'id_equipo'])\n",
    "\n",
    "df_amarillas_local = df_amarillas_local.rename(columns={'amarillas':'amarillas_local'})\n",
    "df_amarillas_visitante = df_train.merge(\n",
    "    amarillas, \n",
    "    how='left', \n",
    "    left_on=['id_partido', 'id_equipo_visitante'], \n",
    "    right_on=['id_partido', 'id_equipo'])\n",
    "df_amarillas_visitante = df_amarillas_visitante.rename(columns={'amarillas':'amarillas_visitante'})\n",
    "df_amarillas = df_amarillas_local[['id_partido', 'amarillas_local']].merge(\n",
    "    df_amarillas_visitante[['id_partido', 'amarillas_visitante']], \n",
    "    how='inner', \n",
    "    on='id_partido')\n",
    "df_amarillas = df_amarillas.fillna(0)"
   ]
  },
  {
   "cell_type": "markdown",
   "metadata": {},
   "source": [
    "### Expulsiones de cada equipo"
   ]
  },
  {
   "cell_type": "markdown",
   "metadata": {},
   "source": [
    "Para cada equipo de contabilizan las tarjetas rojas y las segundas tarjetas amarillas."
   ]
  },
  {
   "cell_type": "code",
   "execution_count": 25,
   "metadata": {
    "collapsed": true
   },
   "outputs": [],
   "source": [
    "rojas = events2[events2.evento.isin(['TARJETA ROJA', 'SEGUNDA TARJETA AMARILLA AL JUGADOR'])].groupby(\n",
    "    ['id_partido', 'id_equipo']).size().reset_index(name='rojas')"
   ]
  },
  {
   "cell_type": "code",
   "execution_count": 26,
   "metadata": {
    "collapsed": true
   },
   "outputs": [],
   "source": [
    "df_rojas_local = df_train.merge(\n",
    "    rojas, \n",
    "    how='left', \n",
    "    left_on=['id_partido', 'id_equipo_local'], \n",
    "    right_on=['id_partido', 'id_equipo'])\n",
    "df_rojas_local = df_rojas_local.rename(columns={'rojas':'rojas_local'})\n",
    "df_rojas_visitante = df_train.merge(\n",
    "    rojas, \n",
    "    how='left', \n",
    "    left_on=['id_partido', 'id_equipo_visitante'], \n",
    "    right_on=['id_partido', 'id_equipo'])\n",
    "df_rojas_visitante = df_rojas_visitante.rename(columns={'rojas':'rojas_visitante'})\n",
    "df_rojas = df_rojas_local[['id_partido', 'rojas_local']].merge(\n",
    "    df_rojas_visitante[['id_partido', 'rojas_visitante']], \n",
    "    how='inner', \n",
    "    on='id_partido')\n",
    "df_rojas = df_rojas.fillna(0)"
   ]
  },
  {
   "cell_type": "markdown",
   "metadata": {},
   "source": [
    "### Corners"
   ]
  },
  {
   "cell_type": "code",
   "execution_count": 27,
   "metadata": {
    "collapsed": true
   },
   "outputs": [],
   "source": [
    "corners = events2[events2.evento=='CORNER'].groupby(\n",
    "    ['id_partido', 'id_equipo']).size().reset_index(name='corners')"
   ]
  },
  {
   "cell_type": "code",
   "execution_count": 28,
   "metadata": {
    "collapsed": true
   },
   "outputs": [],
   "source": [
    "df_corners_local = df_train.merge(\n",
    "    corners, \n",
    "    how='left', \n",
    "    left_on=['id_partido', 'id_equipo_local'], \n",
    "    right_on=['id_partido', 'id_equipo'])\n",
    "df_corners_local = df_corners_local.rename(columns={'corners':'corners_local'})\n",
    "df_corners_visitante = df_train.merge(\n",
    "    corners, \n",
    "    how='left', \n",
    "    left_on=['id_partido', 'id_equipo_visitante'], \n",
    "    right_on=['id_partido', 'id_equipo'])\n",
    "df_corners_visitante = df_corners_visitante.rename(columns={'corners':'corners_visitante'})\n",
    "df_corners = df_corners_local[['id_partido', 'corners_local']].merge(\n",
    "    df_corners_visitante[['id_partido', 'corners_visitante']], \n",
    "    how='inner', \n",
    "    on='id_partido')\n",
    "df_corners = df_corners.fillna(0)"
   ]
  },
  {
   "cell_type": "markdown",
   "metadata": {},
   "source": [
    "### Resultados históricos equipos locales"
   ]
  },
  {
   "cell_type": "markdown",
   "metadata": {},
   "source": [
    "Para cada equipo local se calcula la ratio de victorias, derrotas y empates en todas las temporadas."
   ]
  },
  {
   "cell_type": "code",
   "execution_count": 29,
   "metadata": {
    "collapsed": true
   },
   "outputs": [],
   "source": [
    "partidos_local = df_train.groupby('id_equipo_local').size().reset_index(name='partidos_local')\n",
    "victorias_local = df_train[df_train.ganador==1].groupby('id_equipo_local').size().reset_index(name='victorias_local')\n",
    "derrotas_local = df_train[df_train.ganador==2].groupby('id_equipo_local').size().reset_index(name='derrotas_local')\n",
    "empates_local = df_train[df_train.ganador==0].groupby('id_equipo_local').size().reset_index(name='empates_local')\n",
    "historico_local = partidos_local.merge(victorias_local, how='inner', on='id_equipo_local')\n",
    "historico_local = historico_local.merge(derrotas_local, how='inner', on='id_equipo_local')\n",
    "historico_local = historico_local.merge(empates_local, how='inner', on='id_equipo_local')\n",
    "historico_local['ratio_victorias_local'] = historico_local['victorias_local']/historico_local['partidos_local']\n",
    "historico_local['ratio_derrotas_local'] = historico_local['derrotas_local']/historico_local['partidos_local']\n",
    "historico_local['ratio_empates_local'] = historico_local['empates_local']/historico_local['partidos_local']"
   ]
  },
  {
   "cell_type": "markdown",
   "metadata": {},
   "source": [
    "### Resultados históricos equipos visitantes"
   ]
  },
  {
   "cell_type": "markdown",
   "metadata": {},
   "source": [
    "Se procede de forma análoga al caso anterior"
   ]
  },
  {
   "cell_type": "code",
   "execution_count": 30,
   "metadata": {
    "collapsed": true
   },
   "outputs": [],
   "source": [
    "partidos_visitante = df_train.groupby('id_equipo_visitante').size().reset_index(name='partidos_visitante')\n",
    "victorias_visitante = df_train[df_train.ganador==2].groupby('id_equipo_visitante').size().reset_index(name='victorias_visitante')\n",
    "derrotas_visitante = df_train[df_train.ganador==1].groupby('id_equipo_visitante').size().reset_index(name='derrotas_visitante')\n",
    "empates_visitante = df_train[df_train.ganador==0].groupby('id_equipo_visitante').size().reset_index(name='empates_visitante')\n",
    "historico_visitante = partidos_visitante.merge(victorias_visitante, how='inner', on='id_equipo_visitante')\n",
    "historico_visitante = historico_visitante.merge(derrotas_visitante, how='inner', on='id_equipo_visitante')\n",
    "historico_visitante = historico_visitante.merge(empates_visitante, how='inner', on='id_equipo_visitante')\n",
    "historico_visitante['ratio_victorias_visitante'] = historico_visitante['victorias_visitante']/historico_visitante['partidos_visitante']\n",
    "historico_visitante['ratio_derrotas_visitante'] = historico_visitante['derrotas_visitante']/historico_visitante['partidos_visitante']\n",
    "historico_visitante['ratio_empates_visitante'] = historico_visitante['empates_visitante']/historico_visitante['partidos_visitante']"
   ]
  },
  {
   "cell_type": "markdown",
   "metadata": {},
   "source": [
    "### Media de goles"
   ]
  },
  {
   "cell_type": "markdown",
   "metadata": {},
   "source": [
    "Para cada equipo de calcula cuántos goles anota de media en cada partido, utilizando los partidos de todas las temporadas."
   ]
  },
  {
   "cell_type": "code",
   "execution_count": 31,
   "metadata": {
    "collapsed": true
   },
   "outputs": [],
   "source": [
    "k1 = events2[events2.evento=='GOL'].groupby(\n",
    "    ['id_equipo', 'id_partido']).agg({'evento':'count'}).reset_index()"
   ]
  },
  {
   "cell_type": "code",
   "execution_count": 32,
   "metadata": {},
   "outputs": [
    {
     "data": {
      "text/html": [
       "<div>\n",
       "<style scoped>\n",
       "    .dataframe tbody tr th:only-of-type {\n",
       "        vertical-align: middle;\n",
       "    }\n",
       "\n",
       "    .dataframe tbody tr th {\n",
       "        vertical-align: top;\n",
       "    }\n",
       "\n",
       "    .dataframe thead th {\n",
       "        text-align: right;\n",
       "    }\n",
       "</style>\n",
       "<table border=\"1\" class=\"dataframe\">\n",
       "  <thead>\n",
       "    <tr style=\"text-align: right;\">\n",
       "      <th></th>\n",
       "      <th>id_equipo</th>\n",
       "      <th>media_goles</th>\n",
       "    </tr>\n",
       "  </thead>\n",
       "  <tbody>\n",
       "    <tr>\n",
       "      <th>0</th>\n",
       "      <td>-1</td>\n",
       "      <td>1.055556</td>\n",
       "    </tr>\n",
       "    <tr>\n",
       "      <th>1</th>\n",
       "      <td>1</td>\n",
       "      <td>1.591716</td>\n",
       "    </tr>\n",
       "    <tr>\n",
       "      <th>2</th>\n",
       "      <td>2</td>\n",
       "      <td>1.258065</td>\n",
       "    </tr>\n",
       "    <tr>\n",
       "      <th>3</th>\n",
       "      <td>3</td>\n",
       "      <td>1.464706</td>\n",
       "    </tr>\n",
       "    <tr>\n",
       "      <th>4</th>\n",
       "      <td>4</td>\n",
       "      <td>1.250000</td>\n",
       "    </tr>\n",
       "  </tbody>\n",
       "</table>\n",
       "</div>"
      ],
      "text/plain": [
       "   id_equipo  media_goles\n",
       "0         -1     1.055556\n",
       "1          1     1.591716\n",
       "2          2     1.258065\n",
       "3          3     1.464706\n",
       "4          4     1.250000"
      ]
     },
     "execution_count": 32,
     "metadata": {},
     "output_type": "execute_result"
    }
   ],
   "source": [
    "k2 = k1.groupby('id_equipo').agg(\n",
    "    {'evento':'mean'}).reset_index().rename(columns={'evento':'media_goles'})\n",
    "k2.head()"
   ]
  },
  {
   "cell_type": "markdown",
   "metadata": {},
   "source": [
    "### Media de tiros a porteria"
   ]
  },
  {
   "cell_type": "markdown",
   "metadata": {},
   "source": [
    "Tiros a portería realizados de media por cada equipo a lo largo de todas las temporadas."
   ]
  },
  {
   "cell_type": "code",
   "execution_count": 33,
   "metadata": {
    "collapsed": true
   },
   "outputs": [],
   "source": [
    "t1 = events2[events2.evento=='TIRO A PORTERIA'].groupby(\n",
    "    ['id_equipo', 'id_partido']).agg({'evento':'count'}).reset_index()"
   ]
  },
  {
   "cell_type": "code",
   "execution_count": 34,
   "metadata": {},
   "outputs": [
    {
     "data": {
      "text/html": [
       "<div>\n",
       "<style scoped>\n",
       "    .dataframe tbody tr th:only-of-type {\n",
       "        vertical-align: middle;\n",
       "    }\n",
       "\n",
       "    .dataframe tbody tr th {\n",
       "        vertical-align: top;\n",
       "    }\n",
       "\n",
       "    .dataframe thead th {\n",
       "        text-align: right;\n",
       "    }\n",
       "</style>\n",
       "<table border=\"1\" class=\"dataframe\">\n",
       "  <thead>\n",
       "    <tr style=\"text-align: right;\">\n",
       "      <th></th>\n",
       "      <th>id_equipo</th>\n",
       "      <th>media_tiros_porteria</th>\n",
       "    </tr>\n",
       "  </thead>\n",
       "  <tbody>\n",
       "    <tr>\n",
       "      <th>0</th>\n",
       "      <td>-1</td>\n",
       "      <td>1.000000</td>\n",
       "    </tr>\n",
       "    <tr>\n",
       "      <th>1</th>\n",
       "      <td>1</td>\n",
       "      <td>3.475000</td>\n",
       "    </tr>\n",
       "    <tr>\n",
       "      <th>2</th>\n",
       "      <td>2</td>\n",
       "      <td>2.350877</td>\n",
       "    </tr>\n",
       "    <tr>\n",
       "      <th>3</th>\n",
       "      <td>3</td>\n",
       "      <td>3.654545</td>\n",
       "    </tr>\n",
       "    <tr>\n",
       "      <th>4</th>\n",
       "      <td>4</td>\n",
       "      <td>2.641921</td>\n",
       "    </tr>\n",
       "  </tbody>\n",
       "</table>\n",
       "</div>"
      ],
      "text/plain": [
       "   id_equipo  media_tiros_porteria\n",
       "0         -1              1.000000\n",
       "1          1              3.475000\n",
       "2          2              2.350877\n",
       "3          3              3.654545\n",
       "4          4              2.641921"
      ]
     },
     "execution_count": 34,
     "metadata": {},
     "output_type": "execute_result"
    }
   ],
   "source": [
    "t2 = t1.groupby('id_equipo').agg(\n",
    "    {'evento':'mean'}).reset_index().rename(columns={'evento':'media_tiros_porteria'})\n",
    "t2.head()"
   ]
  },
  {
   "cell_type": "markdown",
   "metadata": {},
   "source": [
    "### Media de centros"
   ]
  },
  {
   "cell_type": "markdown",
   "metadata": {},
   "source": [
    "Cuántos centros ejecuta cada equipo de media por partido."
   ]
  },
  {
   "cell_type": "code",
   "execution_count": 35,
   "metadata": {
    "collapsed": true
   },
   "outputs": [],
   "source": [
    "c1 = events2[events2.evento=='CENTRO'].groupby(\n",
    "    ['id_equipo', 'id_partido']).agg({'evento':'count'}).reset_index()"
   ]
  },
  {
   "cell_type": "code",
   "execution_count": 36,
   "metadata": {},
   "outputs": [
    {
     "data": {
      "text/html": [
       "<div>\n",
       "<style scoped>\n",
       "    .dataframe tbody tr th:only-of-type {\n",
       "        vertical-align: middle;\n",
       "    }\n",
       "\n",
       "    .dataframe tbody tr th {\n",
       "        vertical-align: top;\n",
       "    }\n",
       "\n",
       "    .dataframe thead th {\n",
       "        text-align: right;\n",
       "    }\n",
       "</style>\n",
       "<table border=\"1\" class=\"dataframe\">\n",
       "  <thead>\n",
       "    <tr style=\"text-align: right;\">\n",
       "      <th></th>\n",
       "      <th>id_equipo</th>\n",
       "      <th>media_centros</th>\n",
       "    </tr>\n",
       "  </thead>\n",
       "  <tbody>\n",
       "    <tr>\n",
       "      <th>0</th>\n",
       "      <td>-1</td>\n",
       "      <td>1.096154</td>\n",
       "    </tr>\n",
       "    <tr>\n",
       "      <th>1</th>\n",
       "      <td>1</td>\n",
       "      <td>8.023952</td>\n",
       "    </tr>\n",
       "    <tr>\n",
       "      <th>2</th>\n",
       "      <td>2</td>\n",
       "      <td>6.146154</td>\n",
       "    </tr>\n",
       "    <tr>\n",
       "      <th>3</th>\n",
       "      <td>3</td>\n",
       "      <td>8.147157</td>\n",
       "    </tr>\n",
       "    <tr>\n",
       "      <th>4</th>\n",
       "      <td>4</td>\n",
       "      <td>6.369650</td>\n",
       "    </tr>\n",
       "  </tbody>\n",
       "</table>\n",
       "</div>"
      ],
      "text/plain": [
       "   id_equipo  media_centros\n",
       "0         -1       1.096154\n",
       "1          1       8.023952\n",
       "2          2       6.146154\n",
       "3          3       8.147157\n",
       "4          4       6.369650"
      ]
     },
     "execution_count": 36,
     "metadata": {},
     "output_type": "execute_result"
    }
   ],
   "source": [
    "c2 = c1.groupby('id_equipo').agg(\n",
    "    {'evento':'mean'}).reset_index().rename(columns={'evento':'media_centros'})\n",
    "c2.head()"
   ]
  },
  {
   "cell_type": "markdown",
   "metadata": {},
   "source": [
    "### Minuto del primer gol"
   ]
  },
  {
   "cell_type": "markdown",
   "metadata": {},
   "source": [
    "Para cada partido se calcula en qué minuto marca el primer gol cada equipo."
   ]
  },
  {
   "cell_type": "code",
   "execution_count": 37,
   "metadata": {},
   "outputs": [
    {
     "data": {
      "text/html": [
       "<div>\n",
       "<style scoped>\n",
       "    .dataframe tbody tr th:only-of-type {\n",
       "        vertical-align: middle;\n",
       "    }\n",
       "\n",
       "    .dataframe tbody tr th {\n",
       "        vertical-align: top;\n",
       "    }\n",
       "\n",
       "    .dataframe thead th {\n",
       "        text-align: right;\n",
       "    }\n",
       "</style>\n",
       "<table border=\"1\" class=\"dataframe\">\n",
       "  <thead>\n",
       "    <tr style=\"text-align: right;\">\n",
       "      <th></th>\n",
       "      <th>id_partido</th>\n",
       "      <th>id_equipo</th>\n",
       "      <th>min_primer_gol</th>\n",
       "    </tr>\n",
       "  </thead>\n",
       "  <tbody>\n",
       "    <tr>\n",
       "      <th>0</th>\n",
       "      <td>1</td>\n",
       "      <td>1</td>\n",
       "      <td>12</td>\n",
       "    </tr>\n",
       "    <tr>\n",
       "      <th>1</th>\n",
       "      <td>1</td>\n",
       "      <td>2</td>\n",
       "      <td>25</td>\n",
       "    </tr>\n",
       "    <tr>\n",
       "      <th>2</th>\n",
       "      <td>2</td>\n",
       "      <td>3</td>\n",
       "      <td>4</td>\n",
       "    </tr>\n",
       "    <tr>\n",
       "      <th>3</th>\n",
       "      <td>4</td>\n",
       "      <td>7</td>\n",
       "      <td>4</td>\n",
       "    </tr>\n",
       "    <tr>\n",
       "      <th>4</th>\n",
       "      <td>5</td>\n",
       "      <td>9</td>\n",
       "      <td>2</td>\n",
       "    </tr>\n",
       "  </tbody>\n",
       "</table>\n",
       "</div>"
      ],
      "text/plain": [
       "   id_partido  id_equipo  min_primer_gol\n",
       "0           1          1              12\n",
       "1           1          2              25\n",
       "2           2          3               4\n",
       "3           4          7               4\n",
       "4           5          9               2"
      ]
     },
     "execution_count": 37,
     "metadata": {},
     "output_type": "execute_result"
    }
   ],
   "source": [
    "m1 = events2[events2.evento=='GOL'].groupby(['id_partido', 'id_equipo']).agg(\n",
    "    {'minuto':'min'}).reset_index().rename(columns={'minuto':'min_primer_gol'})\n",
    "m1.head()"
   ]
  },
  {
   "cell_type": "markdown",
   "metadata": {},
   "source": [
    "## Creación del dataframe"
   ]
  },
  {
   "cell_type": "markdown",
   "metadata": {},
   "source": [
    "A continuación, unimos todas las variables en un único dataframe que será utilizado por el modelo para hacer las predicciones."
   ]
  },
  {
   "cell_type": "code",
   "execution_count": 38,
   "metadata": {
    "collapsed": true
   },
   "outputs": [],
   "source": [
    "X = df_goles.merge(df_centros, how='inner', on='id_partido')\n",
    "X = X.merge(df_faltas, how='inner', on='id_partido')\n",
    "X = X.merge(df_tiros_porteria, how='inner', on='id_partido')\n",
    "X = X.merge(df_tiros_fuera, how='inner', on='id_partido')\n",
    "X = X.merge(df_amarillas, how='inner', on='id_partido')\n",
    "X = X.merge(df_rojas, how='inner', on='id_partido')\n",
    "X = X.merge(df_corners, how='inner', on='id_partido')\n",
    "X = X.merge(df_train[['id_partido', 'id_equipo_local', 'id_equipo_visitante']], how='left', on='id_partido')\n",
    "X = X.merge(historico_local[['ratio_victorias_local', 'ratio_derrotas_local', 'ratio_empates_local', 'id_equipo_local']],\n",
    "            how='left', on='id_equipo_local')\n",
    "X = X.merge(historico_visitante[['ratio_victorias_visitante', 'ratio_derrotas_visitante', 'ratio_empates_visitante', 'id_equipo_visitante']],\n",
    "            how='left', on='id_equipo_visitante')\n",
    "X = X.merge(k2, how='left', left_on='id_equipo_local', right_on='id_equipo')\n",
    "X = X.rename(columns={'media_goles':'media_goles_local'})\n",
    "X = X.drop(columns='id_equipo')\n",
    "X = X.merge(k2, how='left', left_on='id_equipo_visitante', right_on='id_equipo')\n",
    "X = X.rename(columns={'media_goles':'media_goles_visitante'})\n",
    "X = X.drop(columns='id_equipo')\n",
    "X = X.merge(t2, how='left', left_on='id_equipo_local', right_on='id_equipo')\n",
    "X = X.rename(columns={'media_tiros_porteria':'media_tiros_porteria_local'})\n",
    "X = X.drop(columns='id_equipo')\n",
    "X = X.merge(t2, how='left', left_on='id_equipo_visitante', right_on='id_equipo')\n",
    "X = X.rename(columns={'media_tiros_porteria':'media_tiros_porteria_visitante'})\n",
    "X = X.drop(columns='id_equipo')\n",
    "X = X.merge(c2, how='left', left_on='id_equipo_local', right_on='id_equipo')\n",
    "X = X.rename(columns={'media_centros':'media_centros_local'})\n",
    "X = X.drop(columns='id_equipo')\n",
    "X = X.merge(c2, how='left', left_on='id_equipo_visitante', right_on='id_equipo')\n",
    "X = X.rename(columns={'media_centros':'media_centros_visitante'})\n",
    "X = X.drop(columns='id_equipo')\n",
    "X = X.merge(m1, \n",
    "            how='left', \n",
    "            left_on=['id_partido', 'id_equipo_local'], \n",
    "            right_on=['id_partido', 'id_equipo'])\n",
    "X = X.rename(columns={'min_primer_gol':'min_primer_gol_local'})\n",
    "X = X.drop(columns='id_equipo')\n",
    "X = X.merge(m1, \n",
    "            how='left', \n",
    "            left_on=['id_partido', 'id_equipo_visitante'], \n",
    "            right_on=['id_partido', 'id_equipo'])\n",
    "X = X.rename(columns={'min_primer_gol':'min_primer_gol_visitante'})\n",
    "X = X.drop(columns='id_equipo')"
   ]
  },
  {
   "cell_type": "markdown",
   "metadata": {},
   "source": [
    "Los datos **nulos** de ratios y medias los rellenamos con **ceros**, mientras que los registros de minutos sin datos los sustituimos por **999**, para indicar que no se ha marcado ningún gol."
   ]
  },
  {
   "cell_type": "code",
   "execution_count": 39,
   "metadata": {
    "collapsed": true
   },
   "outputs": [],
   "source": [
    "X[['ratio_victorias_local', 'ratio_derrotas_local', 'ratio_empates_local', 'ratio_victorias_visitante', 'ratio_derrotas_visitante', 'ratio_empates_visitante', 'media_goles_local', 'media_goles_visitante', 'media_tiros_porteria_local', 'media_tiros_porteria_visitante', 'media_centros_local', 'media_centros_visitante']] = X[['ratio_victorias_local', 'ratio_derrotas_local', 'ratio_empates_local', 'ratio_victorias_visitante', 'ratio_derrotas_visitante', 'ratio_empates_visitante', 'media_goles_local', 'media_goles_visitante', 'media_tiros_porteria_local', 'media_tiros_porteria_visitante', 'media_centros_local', 'media_centros_visitante']].fillna(0)\n",
    "X[['min_primer_gol_local', 'min_primer_gol_visitante']] = X[['min_primer_gol_local', 'min_primer_gol_visitante']].fillna(999)"
   ]
  },
  {
   "cell_type": "markdown",
   "metadata": {},
   "source": [
    "En este caso, no tiene sentido buscar outliers puesto que las variables son agrupaciones que hemos realizado nosotros. En otro caso, se consideraría como outliers aquellos datos mayores que Q3 + 1.5x(Q3-Q1). Podemos comprobar la distribución de las variables para ver si hay datos atípicos:"
   ]
  },
  {
   "cell_type": "code",
   "execution_count": 40,
   "metadata": {},
   "outputs": [
    {
     "data": {
      "text/html": [
       "<div>\n",
       "<style scoped>\n",
       "    .dataframe tbody tr th:only-of-type {\n",
       "        vertical-align: middle;\n",
       "    }\n",
       "\n",
       "    .dataframe tbody tr th {\n",
       "        vertical-align: top;\n",
       "    }\n",
       "\n",
       "    .dataframe thead th {\n",
       "        text-align: right;\n",
       "    }\n",
       "</style>\n",
       "<table border=\"1\" class=\"dataframe\">\n",
       "  <thead>\n",
       "    <tr style=\"text-align: right;\">\n",
       "      <th></th>\n",
       "      <th>id_partido</th>\n",
       "      <th>temporada</th>\n",
       "      <th>goles_local</th>\n",
       "      <th>goles_visitante</th>\n",
       "      <th>ganador</th>\n",
       "      <th>ganador_descanso</th>\n",
       "      <th>diferencia_goles</th>\n",
       "      <th>centros_local</th>\n",
       "      <th>centros_visitante</th>\n",
       "      <th>faltas_local</th>\n",
       "      <th>...</th>\n",
       "      <th>ratio_derrotas_visitante</th>\n",
       "      <th>ratio_empates_visitante</th>\n",
       "      <th>media_goles_local</th>\n",
       "      <th>media_goles_visitante</th>\n",
       "      <th>media_tiros_porteria_local</th>\n",
       "      <th>media_tiros_porteria_visitante</th>\n",
       "      <th>media_centros_local</th>\n",
       "      <th>media_centros_visitante</th>\n",
       "      <th>min_primer_gol_local</th>\n",
       "      <th>min_primer_gol_visitante</th>\n",
       "    </tr>\n",
       "  </thead>\n",
       "  <tbody>\n",
       "    <tr>\n",
       "      <th>count</th>\n",
       "      <td>13000.000000</td>\n",
       "      <td>13000.000000</td>\n",
       "      <td>13000.000000</td>\n",
       "      <td>13000.000000</td>\n",
       "      <td>13000.000000</td>\n",
       "      <td>13000.000000</td>\n",
       "      <td>13000.000000</td>\n",
       "      <td>13000.000000</td>\n",
       "      <td>13000.000000</td>\n",
       "      <td>13000.000000</td>\n",
       "      <td>...</td>\n",
       "      <td>13000.000000</td>\n",
       "      <td>13000.000000</td>\n",
       "      <td>13000.000000</td>\n",
       "      <td>13000.000000</td>\n",
       "      <td>13000.000000</td>\n",
       "      <td>13000.000000</td>\n",
       "      <td>13000.000000</td>\n",
       "      <td>13000.000000</td>\n",
       "      <td>13000.000000</td>\n",
       "      <td>13000.000000</td>\n",
       "    </tr>\n",
       "    <tr>\n",
       "      <th>mean</th>\n",
       "      <td>6511.563462</td>\n",
       "      <td>3.530846</td>\n",
       "      <td>0.691615</td>\n",
       "      <td>0.508692</td>\n",
       "      <td>1.029769</td>\n",
       "      <td>0.813077</td>\n",
       "      <td>0.182923</td>\n",
       "      <td>4.454538</td>\n",
       "      <td>3.392231</td>\n",
       "      <td>3.492923</td>\n",
       "      <td>...</td>\n",
       "      <td>0.463077</td>\n",
       "      <td>0.251538</td>\n",
       "      <td>1.324377</td>\n",
       "      <td>1.324903</td>\n",
       "      <td>2.706536</td>\n",
       "      <td>2.707374</td>\n",
       "      <td>6.531324</td>\n",
       "      <td>6.533274</td>\n",
       "      <td>512.652231</td>\n",
       "      <td>612.926308</td>\n",
       "    </tr>\n",
       "    <tr>\n",
       "      <th>std</th>\n",
       "      <td>3760.835765</td>\n",
       "      <td>2.173164</td>\n",
       "      <td>0.836356</td>\n",
       "      <td>0.722258</td>\n",
       "      <td>0.730543</td>\n",
       "      <td>0.783503</td>\n",
       "      <td>1.119418</td>\n",
       "      <td>4.969026</td>\n",
       "      <td>3.978721</td>\n",
       "      <td>3.676881</td>\n",
       "      <td>...</td>\n",
       "      <td>0.131530</td>\n",
       "      <td>0.054433</td>\n",
       "      <td>0.121029</td>\n",
       "      <td>0.120508</td>\n",
       "      <td>0.639581</td>\n",
       "      <td>0.639468</td>\n",
       "      <td>1.565393</td>\n",
       "      <td>1.565826</td>\n",
       "      <td>488.550588</td>\n",
       "      <td>477.277118</td>\n",
       "    </tr>\n",
       "    <tr>\n",
       "      <th>min</th>\n",
       "      <td>1.000000</td>\n",
       "      <td>0.000000</td>\n",
       "      <td>0.000000</td>\n",
       "      <td>0.000000</td>\n",
       "      <td>0.000000</td>\n",
       "      <td>0.000000</td>\n",
       "      <td>-5.000000</td>\n",
       "      <td>0.000000</td>\n",
       "      <td>0.000000</td>\n",
       "      <td>0.000000</td>\n",
       "      <td>...</td>\n",
       "      <td>0.000000</td>\n",
       "      <td>0.000000</td>\n",
       "      <td>0.000000</td>\n",
       "      <td>0.000000</td>\n",
       "      <td>0.000000</td>\n",
       "      <td>0.000000</td>\n",
       "      <td>0.000000</td>\n",
       "      <td>0.000000</td>\n",
       "      <td>1.000000</td>\n",
       "      <td>1.000000</td>\n",
       "    </tr>\n",
       "    <tr>\n",
       "      <th>25%</th>\n",
       "      <td>3253.750000</td>\n",
       "      <td>2.000000</td>\n",
       "      <td>0.000000</td>\n",
       "      <td>0.000000</td>\n",
       "      <td>0.000000</td>\n",
       "      <td>0.000000</td>\n",
       "      <td>0.000000</td>\n",
       "      <td>0.000000</td>\n",
       "      <td>0.000000</td>\n",
       "      <td>0.000000</td>\n",
       "      <td>...</td>\n",
       "      <td>0.356643</td>\n",
       "      <td>0.225352</td>\n",
       "      <td>1.245902</td>\n",
       "      <td>1.245902</td>\n",
       "      <td>2.444444</td>\n",
       "      <td>2.444444</td>\n",
       "      <td>5.984615</td>\n",
       "      <td>5.984615</td>\n",
       "      <td>21.000000</td>\n",
       "      <td>29.000000</td>\n",
       "    </tr>\n",
       "    <tr>\n",
       "      <th>50%</th>\n",
       "      <td>6512.500000</td>\n",
       "      <td>4.000000</td>\n",
       "      <td>0.000000</td>\n",
       "      <td>0.000000</td>\n",
       "      <td>1.000000</td>\n",
       "      <td>1.000000</td>\n",
       "      <td>0.000000</td>\n",
       "      <td>3.000000</td>\n",
       "      <td>2.000000</td>\n",
       "      <td>3.000000</td>\n",
       "      <td>...</td>\n",
       "      <td>0.490385</td>\n",
       "      <td>0.250000</td>\n",
       "      <td>1.320312</td>\n",
       "      <td>1.321429</td>\n",
       "      <td>2.727273</td>\n",
       "      <td>2.730769</td>\n",
       "      <td>6.743590</td>\n",
       "      <td>6.743590</td>\n",
       "      <td>999.000000</td>\n",
       "      <td>999.000000</td>\n",
       "    </tr>\n",
       "    <tr>\n",
       "      <th>75%</th>\n",
       "      <td>9770.250000</td>\n",
       "      <td>5.000000</td>\n",
       "      <td>1.000000</td>\n",
       "      <td>1.000000</td>\n",
       "      <td>2.000000</td>\n",
       "      <td>1.000000</td>\n",
       "      <td>1.000000</td>\n",
       "      <td>8.000000</td>\n",
       "      <td>6.000000</td>\n",
       "      <td>6.000000</td>\n",
       "      <td>...</td>\n",
       "      <td>0.553571</td>\n",
       "      <td>0.276596</td>\n",
       "      <td>1.375940</td>\n",
       "      <td>1.375940</td>\n",
       "      <td>2.986111</td>\n",
       "      <td>2.986111</td>\n",
       "      <td>7.383333</td>\n",
       "      <td>7.383333</td>\n",
       "      <td>999.000000</td>\n",
       "      <td>999.000000</td>\n",
       "    </tr>\n",
       "    <tr>\n",
       "      <th>max</th>\n",
       "      <td>13021.000000</td>\n",
       "      <td>7.000000</td>\n",
       "      <td>6.000000</td>\n",
       "      <td>6.000000</td>\n",
       "      <td>2.000000</td>\n",
       "      <td>2.000000</td>\n",
       "      <td>6.000000</td>\n",
       "      <td>40.000000</td>\n",
       "      <td>24.000000</td>\n",
       "      <td>19.000000</td>\n",
       "      <td>...</td>\n",
       "      <td>0.842105</td>\n",
       "      <td>0.470588</td>\n",
       "      <td>2.000000</td>\n",
       "      <td>2.000000</td>\n",
       "      <td>5.000000</td>\n",
       "      <td>5.000000</td>\n",
       "      <td>12.000000</td>\n",
       "      <td>12.000000</td>\n",
       "      <td>999.000000</td>\n",
       "      <td>999.000000</td>\n",
       "    </tr>\n",
       "  </tbody>\n",
       "</table>\n",
       "<p>8 rows × 37 columns</p>\n",
       "</div>"
      ],
      "text/plain": [
       "         id_partido     temporada   goles_local  goles_visitante  \\\n",
       "count  13000.000000  13000.000000  13000.000000     13000.000000   \n",
       "mean    6511.563462      3.530846      0.691615         0.508692   \n",
       "std     3760.835765      2.173164      0.836356         0.722258   \n",
       "min        1.000000      0.000000      0.000000         0.000000   \n",
       "25%     3253.750000      2.000000      0.000000         0.000000   \n",
       "50%     6512.500000      4.000000      0.000000         0.000000   \n",
       "75%     9770.250000      5.000000      1.000000         1.000000   \n",
       "max    13021.000000      7.000000      6.000000         6.000000   \n",
       "\n",
       "            ganador  ganador_descanso  diferencia_goles  centros_local  \\\n",
       "count  13000.000000      13000.000000      13000.000000   13000.000000   \n",
       "mean       1.029769          0.813077          0.182923       4.454538   \n",
       "std        0.730543          0.783503          1.119418       4.969026   \n",
       "min        0.000000          0.000000         -5.000000       0.000000   \n",
       "25%        0.000000          0.000000          0.000000       0.000000   \n",
       "50%        1.000000          1.000000          0.000000       3.000000   \n",
       "75%        2.000000          1.000000          1.000000       8.000000   \n",
       "max        2.000000          2.000000          6.000000      40.000000   \n",
       "\n",
       "       centros_visitante  faltas_local            ...             \\\n",
       "count       13000.000000  13000.000000            ...              \n",
       "mean            3.392231      3.492923            ...              \n",
       "std             3.978721      3.676881            ...              \n",
       "min             0.000000      0.000000            ...              \n",
       "25%             0.000000      0.000000            ...              \n",
       "50%             2.000000      3.000000            ...              \n",
       "75%             6.000000      6.000000            ...              \n",
       "max            24.000000     19.000000            ...              \n",
       "\n",
       "       ratio_derrotas_visitante  ratio_empates_visitante  media_goles_local  \\\n",
       "count              13000.000000             13000.000000       13000.000000   \n",
       "mean                   0.463077                 0.251538           1.324377   \n",
       "std                    0.131530                 0.054433           0.121029   \n",
       "min                    0.000000                 0.000000           0.000000   \n",
       "25%                    0.356643                 0.225352           1.245902   \n",
       "50%                    0.490385                 0.250000           1.320312   \n",
       "75%                    0.553571                 0.276596           1.375940   \n",
       "max                    0.842105                 0.470588           2.000000   \n",
       "\n",
       "       media_goles_visitante  media_tiros_porteria_local  \\\n",
       "count           13000.000000                13000.000000   \n",
       "mean                1.324903                    2.706536   \n",
       "std                 0.120508                    0.639581   \n",
       "min                 0.000000                    0.000000   \n",
       "25%                 1.245902                    2.444444   \n",
       "50%                 1.321429                    2.727273   \n",
       "75%                 1.375940                    2.986111   \n",
       "max                 2.000000                    5.000000   \n",
       "\n",
       "       media_tiros_porteria_visitante  media_centros_local  \\\n",
       "count                    13000.000000         13000.000000   \n",
       "mean                         2.707374             6.531324   \n",
       "std                          0.639468             1.565393   \n",
       "min                          0.000000             0.000000   \n",
       "25%                          2.444444             5.984615   \n",
       "50%                          2.730769             6.743590   \n",
       "75%                          2.986111             7.383333   \n",
       "max                          5.000000            12.000000   \n",
       "\n",
       "       media_centros_visitante  min_primer_gol_local  min_primer_gol_visitante  \n",
       "count             13000.000000          13000.000000              13000.000000  \n",
       "mean                  6.533274            512.652231                612.926308  \n",
       "std                   1.565826            488.550588                477.277118  \n",
       "min                   0.000000              1.000000                  1.000000  \n",
       "25%                   5.984615             21.000000                 29.000000  \n",
       "50%                   6.743590            999.000000                999.000000  \n",
       "75%                   7.383333            999.000000                999.000000  \n",
       "max                  12.000000            999.000000                999.000000  \n",
       "\n",
       "[8 rows x 37 columns]"
      ]
     },
     "execution_count": 40,
     "metadata": {},
     "output_type": "execute_result"
    }
   ],
   "source": [
    "X.describe()"
   ]
  },
  {
   "cell_type": "markdown",
   "metadata": {},
   "source": [
    "## Análisis exploratorio"
   ]
  },
  {
   "cell_type": "markdown",
   "metadata": {},
   "source": [
    "A continuación, vamos a realizar un análisis exploratorio de las variables para estudiar la distribución de los datos y poder extraer algunas conclusiones sobre ellos y poder analizar el comportamiento de las mismas atendiento a diferentes factores, como el equipo, la temporada, etc."
   ]
  },
  {
   "cell_type": "code",
   "execution_count": 72,
   "metadata": {
    "collapsed": true
   },
   "outputs": [],
   "source": [
    "datos = df_train[['id_partido', 'temporada', 'ganador']].merge(\n",
    "    events2[['id_partido', 'evento', 'subtipo']], how='inner', on='id_partido')"
   ]
  },
  {
   "cell_type": "markdown",
   "metadata": {},
   "source": [
    "Veamos como se distribuyen los resultado finales a lo largo de todas las temporadas:"
   ]
  },
  {
   "cell_type": "code",
   "execution_count": 80,
   "metadata": {
    "collapsed": true
   },
   "outputs": [],
   "source": [
    "s1 = pd.crosstab(df_train.temporada, df_train.ganador)"
   ]
  },
  {
   "cell_type": "code",
   "execution_count": 82,
   "metadata": {},
   "outputs": [
    {
     "data": {
      "image/png": "[encoded data removed]",
      "text/plain": [
       "<matplotlib.figure.Figure at 0x1ff3c668748>"
      ]
     },
     "metadata": {},
     "output_type": "display_data"
    }
   ],
   "source": [
    "s1.plot.bar()\n",
    "plt.ylabel('Partidos')\n",
    "plt.xlabel('Temporada')\n",
    "plt.title('Proporcion de resultados por temporada')\n",
    "plt.show()"
   ]
  },
  {
   "cell_type": "markdown",
   "metadata": {},
   "source": [
    "En todas las temporadas hay un mayor número de victorias locales, y solo en la temporada 1 hay más empates que victorias visitantes."
   ]
  },
  {
   "cell_type": "code",
   "execution_count": 75,
   "metadata": {},
   "outputs": [],
   "source": [
    "s2 = datos.loc[(datos.evento=='FALTA')&(datos.subtipo=='PENALTY')].groupby(\n",
    "    ['temporada']).agg({'evento':'count'})"
   ]
  },
  {
   "cell_type": "markdown",
   "metadata": {},
   "source": [
    "También podemos analizar la frecuencia de eventos en cada temporada, por ejemplo, veamos el número de penalties registrados en cada temporada:"
   ]
  },
  {
   "cell_type": "code",
   "execution_count": 76,
   "metadata": {},
   "outputs": [
    {
     "data": {
      "image/png": "[encoded data removed]",
      "text/plain": [
       "<matplotlib.figure.Figure at 0x1ff3be1d898>"
      ]
     },
     "metadata": {},
     "output_type": "display_data"
    }
   ],
   "source": [
    "s2.plot.bar()\n",
    "plt.ylabel('Penalties')\n",
    "plt.xlabel('Temporada')\n",
    "plt.title('Penalties por temporada')\n",
    "plt.show()"
   ]
  },
  {
   "cell_type": "markdown",
   "metadata": {},
   "source": [
    "Mediante gráficos box-plot podemos analizar la evolución a lo largo del tiempo de algunas variables. Veamos cómo evoluciona el ratio de derrotas del equipo local:"
   ]
  },
  {
   "cell_type": "code",
   "execution_count": 78,
   "metadata": {},
   "outputs": [
    {
     "data": {
      "image/png": "[encoded data removed]",
      "text/plain": [
       "<matplotlib.figure.Figure at 0x1ff3ba08b38>"
      ]
     },
     "metadata": {},
     "output_type": "display_data"
    }
   ],
   "source": [
    "X.boxplot(column=['ratio_derrotas_local'], by='temporada')\n",
    "plt.show()"
   ]
  },
  {
   "cell_type": "markdown",
   "metadata": {},
   "source": [
    "Y el número medio de centros que realiza el equipo visitante, donde observamos un incremento en la media:"
   ]
  },
  {
   "cell_type": "code",
   "execution_count": 148,
   "metadata": {},
   "outputs": [
    {
     "data": {
      "image/png": "[encoded data removed]",
      "text/plain": [
       "<matplotlib.figure.Figure at 0x1ff40235588>"
      ]
     },
     "metadata": {},
     "output_type": "display_data"
    }
   ],
   "source": [
    "X.boxplot(column=['media_centros_visitante'], by='temporada')\n",
    "plt.show()"
   ]
  },
  {
   "cell_type": "markdown",
   "metadata": {},
   "source": [
    "También es interesante analizar la densidad de probabilidad de algunas variables para cada resultado.\n",
    "\n",
    "Veamos la distribución de probabilidad de la variable que nos indica el minuto del primer gol local para cada uno de los resultados:"
   ]
  },
  {
   "cell_type": "code",
   "execution_count": 41,
   "metadata": {},
   "outputs": [
    {
     "name": "stderr",
     "output_type": "stream",
     "text": [
      "C:\\Users\\asus\\Anaconda3\\lib\\site-packages\\ipykernel_launcher.py:5: UserWarning: Boolean Series key will be reindexed to match DataFrame index.\n",
      "  \"\"\"\n"
     ]
    },
    {
     "data": {
      "image/png": "[encoded data removed]",
      "text/plain": [
       "<matplotlib.figure.Figure at 0x1ff39ba2630>"
      ]
     },
     "metadata": {},
     "output_type": "display_data"
    }
   ],
   "source": [
    "resultados=[0,1,2]\n",
    "fig = plt.figure(figsize=(9,7))\n",
    "\n",
    "for resultado in resultados:\n",
    "    X.loc[X.ganador==resultado][X.min_primer_gol_local<100].min_primer_gol_local.plot(kind='kde')\n",
    "plt.legend(('Empate', 'Victoria Local', 'Victoria Visitante'), loc=0)\n",
    "plt.xlabel('Minuto')\n",
    "plt.ylabel('Density')\n",
    "plt.grid(True)\n",
    "plt.title('Minuto del primer gol local para cada resultado')\n",
    "plt.xlim(0, 50)\n",
    "plt.show()"
   ]
  },
  {
   "cell_type": "markdown",
   "metadata": {},
   "source": [
    "Se puede observar que la victoria local es más probable cuando el equipo local anota un tanto antes del minuto 20."
   ]
  },
  {
   "cell_type": "markdown",
   "metadata": {},
   "source": [
    "Veamos si influye en el resultado final el ratio de victorias del equipo local:"
   ]
  },
  {
   "cell_type": "code",
   "execution_count": 42,
   "metadata": {},
   "outputs": [
    {
     "data": {
      "image/png": "[encoded data removed]",
      "text/plain": [
       "<matplotlib.figure.Figure at 0x1ff39b8ff28>"
      ]
     },
     "metadata": {},
     "output_type": "display_data"
    }
   ],
   "source": [
    "resultados=[0,1,2]\n",
    "fig = plt.figure(figsize=(9,7))\n",
    "\n",
    "for resultado in resultados:\n",
    "    X.loc[X.ganador==resultado].ratio_victorias_local.plot(kind='kde')\n",
    "plt.legend(('Empate', 'Vcitoria Local', 'Victoria Visitante'), loc=0)\n",
    "plt.xlabel('Ratio victorias equipo local')\n",
    "plt.ylabel('Density')\n",
    "plt.grid(True)\n",
    "plt.title('Ratio de victorias local para cada resultado')\n",
    "plt.xlim(0, 1)\n",
    "plt.show()"
   ]
  },
  {
   "cell_type": "markdown",
   "metadata": {},
   "source": [
    "Se aprecia un incremento de la probabilidad de victoria local cuando el ratio es mayor que 0.5"
   ]
  },
  {
   "cell_type": "markdown",
   "metadata": {},
   "source": [
    "Por último podemos ver la distribución de media de goles del equipo visitante para cada resultado:"
   ]
  },
  {
   "cell_type": "code",
   "execution_count": 83,
   "metadata": {},
   "outputs": [
    {
     "data": {
      "image/png": "[encoded data removed]",
      "text/plain": [
       "<matplotlib.figure.Figure at 0x1ff3ca4b7b8>"
      ]
     },
     "metadata": {},
     "output_type": "display_data"
    }
   ],
   "source": [
    "resultados=[0,1,2]\n",
    "fig = plt.figure(figsize=(9,7))\n",
    "\n",
    "for resultado in resultados:\n",
    "    X.loc[X.ganador==resultado].media_goles_visitante.plot(kind='kde')\n",
    "plt.legend(('Empate', 'Victoria Local', 'Victoria Visitante'), loc=0)\n",
    "plt.xlabel('Media goles por partido equipo visitante')\n",
    "plt.ylabel('Density')\n",
    "plt.grid(True)\n",
    "plt.title('Distribucion de la media de goles del equipo visitante por resultado')\n",
    "plt.xlim(1, 2)\n",
    "plt.show()"
   ]
  },
  {
   "cell_type": "markdown",
   "metadata": {},
   "source": [
    "La probabilidad de victoria visitante es mayor cuando la media de goles del equipo visitante es mayor que 1.4"
   ]
  },
  {
   "cell_type": "markdown",
   "metadata": {},
   "source": [
    "Otro paso importante es representar la **matriz de correlación** entre variables, para ver si existe variables correlacionadas entre sí y poder prescindir así de alguna de ellas:"
   ]
  },
  {
   "cell_type": "code",
   "execution_count": 149,
   "metadata": {},
   "outputs": [
    {
     "data": {
      "image/png": "[encoded data removed]",
      "text/plain": [
       "<matplotlib.figure.Figure at 0x1ff40346898>"
      ]
     },
     "metadata": {},
     "output_type": "display_data"
    }
   ],
   "source": [
    "plt.figure(figsize=(10,7))\n",
    "sns.heatmap(X.drop(columns=['id_partido', 'temporada', 'id_equipo_local', 'id_equipo_visitante']).corr())\n",
    "plt.show()"
   ]
  },
  {
   "cell_type": "markdown",
   "metadata": {},
   "source": [
    "## Random Forest Classifier"
   ]
  },
  {
   "cell_type": "markdown",
   "metadata": {},
   "source": [
    "Por último, vamos a definir nuestro modelo predictivo. Utilizaremos un  modelo **Random Forest** para la predicción de la variable multilabel ganador.\n",
    "\n",
    "En primer lugar, dividimos nuestro dataset en conjuntos de **train (80%), validación (10%) y test (10%)**, suprimiendo las variables que no tiene sentido considerar:"
   ]
  },
  {
   "cell_type": "code",
   "execution_count": null,
   "metadata": {
    "collapsed": true
   },
   "outputs": [],
   "source": [
    "X_train = X.drop(columns=['id_partido', 'temporada', 'ganador']).values\n",
    "y_train = X['ganador'].values\n",
    "X_test = Y.drop(columns=['id_partido']).values"
   ]
  },
  {
   "cell_type": "code",
   "execution_count": 118,
   "metadata": {
    "collapsed": true
   },
   "outputs": [],
   "source": [
    "X_valid = X.sample(frac=.1, random_state=42)\n",
    "y_valid = X_valid['ganador']\n",
    "X2 = X[~X.id_partido.isin(X_valid.id_partido.unique())]\n",
    "X_test = X2.sample(frac=.1, random_state=42)\n",
    "y_test = X_test['ganador']\n",
    "X_train = X2[~X2.id_partido.isin(X_test.id_partido.unique())]\n",
    "y_train = X_train['ganador']\n",
    "X2_valid = X_valid.drop(columns=['id_partido', 'temporada', 'ganador', 'id_equipo_local', 'id_equipo_visitante']).values\n",
    "y2_valid = y_valid.values\n",
    "X2_train = X_train.drop(columns=['id_partido', 'temporada', 'ganador', 'id_equipo_local', 'id_equipo_visitante']).values\n",
    "y2_train = y_train.values\n",
    "X2_test = X_test.drop(columns=['id_partido', 'temporada', 'ganador', 'id_equipo_local', 'id_equipo_visitante']).values\n",
    "y2_test = y_test.values"
   ]
  },
  {
   "cell_type": "markdown",
   "metadata": {},
   "source": [
    "Instanciamos el modelo sin especificar ningún hiperparámetro."
   ]
  },
  {
   "cell_type": "code",
   "execution_count": 119,
   "metadata": {
    "collapsed": true
   },
   "outputs": [],
   "source": [
    "clf = RandomForestClassifier()"
   ]
  },
  {
   "cell_type": "markdown",
   "metadata": {},
   "source": [
    "Vamos a realiazar una **búsqueda aleatorizada**  en un mallado de hiperparámetros posibles del Random Forest para buscar la **combinación óptima** utilizando el subconjunto de **validación**:"
   ]
  },
  {
   "cell_type": "code",
   "execution_count": 120,
   "metadata": {
    "collapsed": true
   },
   "outputs": [],
   "source": [
    "param_grid = {\n",
    "        'max_depth': [5, 10, 15, 20],\n",
    "        'min_samples_leaf': [1, 2, 4],\n",
    "        'min_samples_split': [2, 5, 10],\n",
    "        'criterion': ['gini', 'entropy'],\n",
    "        'n_estimators': [100, 200, 400],\n",
    "        }"
   ]
  },
  {
   "cell_type": "code",
   "execution_count": 121,
   "metadata": {
    "collapsed": true
   },
   "outputs": [],
   "source": [
    "fit_params = {'eval_metric': 'mlogloss',\n",
    "              'early_stopping_rounds': 10,\n",
    "              'eval_set': [(X2_valid, y2_valid)]}"
   ]
  },
  {
   "cell_type": "markdown",
   "metadata": {},
   "source": [
    "Definimos los parámetros de la búsqueda, realizaremos **30 iteraciones** con una configuración de **5-fold para cross-validation**, especificando la métrica que se quiere optimizar, en este caso **F1-score micro**:"
   ]
  },
  {
   "cell_type": "code",
   "execution_count": 122,
   "metadata": {
    "collapsed": true
   },
   "outputs": [],
   "source": [
    "rs_clf = RandomizedSearchCV(clf, param_grid, n_iter=30,\n",
    "                            n_jobs=1, cv=5, \n",
    "                            param_distributions=fit_params,\n",
    "                            scoring='f1_micro', refit=False, random_state=42)"
   ]
  },
  {
   "cell_type": "code",
   "execution_count": 123,
   "metadata": {},
   "outputs": [
    {
     "data": {
      "text/plain": [
       "RandomizedSearchCV(cv=5, estimator=RandomForestClassifier(), n_iter=30,\n",
       "                   n_jobs=1,\n",
       "                   param_distributions={'criterion': ['gini', 'entropy'],\n",
       "                                        'max_depth': [5, 10, 15, 20],\n",
       "                                        'min_samples_leaf': [1, 2, 4],\n",
       "                                        'min_samples_split': [2, 5, 10],\n",
       "                                        'n_estimators': [100, 200, 400]},\n",
       "                   random_state=42, refit=False, scoring='f1_micro')"
      ]
     },
     "execution_count": 123,
     "metadata": {},
     "output_type": "execute_result"
    }
   ],
   "source": [
    "rs_clf.fit(X2_train, y2_train)"
   ]
  },
  {
   "cell_type": "markdown",
   "metadata": {},
   "source": [
    "Una vez finalizada la búsqueda, podemos obtener los parámetros óptimos y el mejor score:"
   ]
  },
  {
   "cell_type": "code",
   "execution_count": 124,
   "metadata": {},
   "outputs": [
    {
     "data": {
      "text/plain": [
       "{'criterion': 'entropy',\n",
       " 'max_depth': 10,\n",
       " 'min_samples_leaf': 1,\n",
       " 'min_samples_split': 10,\n",
       " 'n_estimators': 200}"
      ]
     },
     "execution_count": 124,
     "metadata": {},
     "output_type": "execute_result"
    }
   ],
   "source": [
    "rs_clf.best_params_"
   ]
  },
  {
   "cell_type": "code",
   "execution_count": 125,
   "metadata": {},
   "outputs": [
    {
     "data": {
      "text/plain": [
       "0.62402659069325739"
      ]
     },
     "execution_count": 125,
     "metadata": {},
     "output_type": "execute_result"
    }
   ],
   "source": [
    "rs_clf.best_score_"
   ]
  },
  {
   "cell_type": "markdown",
   "metadata": {},
   "source": [
    "Entrenamos el modelo con los parámetros obtenidos anteriormente:"
   ]
  },
  {
   "cell_type": "code",
   "execution_count": 145,
   "metadata": {},
   "outputs": [
    {
     "data": {
      "text/plain": [
       "RandomForestClassifier(class_weight='balanced', criterion='entropy',\n",
       "                       max_depth=10, min_samples_split=10, n_estimators=200)"
      ]
     },
     "execution_count": 145,
     "metadata": {},
     "output_type": "execute_result"
    }
   ],
   "source": [
    "clf = RandomForestClassifier(\n",
    "    criterion='entropy', max_depth=10, \n",
    "    min_samples_leaf=1, min_samples_split=10,\n",
    "    n_estimators=200, class_weight='balanced')\n",
    "\n",
    "clf.fit(X2_train, y2_train)"
   ]
  },
  {
   "cell_type": "markdown",
   "metadata": {},
   "source": [
    "Balance para cada clase del conjunto de entrenamiento:"
   ]
  },
  {
   "cell_type": "code",
   "execution_count": 126,
   "metadata": {},
   "outputs": [
    {
     "data": {
      "image/png": "[encoded data removed]",
      "text/plain": [
       "<matplotlib.figure.Figure at 0x1ff3c77f9b0>"
      ]
     },
     "metadata": {},
     "output_type": "display_data"
    },
    {
     "data": {
      "text/plain": [
       "<matplotlib.axes._subplots.AxesSubplot at 0x1ff3c6672e8>"
      ]
     },
     "execution_count": 126,
     "metadata": {},
     "output_type": "execute_result"
    }
   ],
   "source": [
    "visualizer = ClassBalance(labels=[\"Empate\", \"Local\", \"Visitante\"])\n",
    "visualizer.fit(y2_train)        \n",
    "visualizer.show()"
   ]
  },
  {
   "cell_type": "code",
   "execution_count": 128,
   "metadata": {
    "collapsed": true
   },
   "outputs": [],
   "source": [
    "y_pred = clf.predict(X2_test)"
   ]
  },
  {
   "cell_type": "markdown",
   "metadata": {},
   "source": [
    "Obtenemos la matriz de confusión y observamos que el modelo clasifica mal los empates, ya que tiende a clasificarlos como victoria local:"
   ]
  },
  {
   "cell_type": "code",
   "execution_count": 129,
   "metadata": {},
   "outputs": [
    {
     "name": "stderr",
     "output_type": "stream",
     "text": [
      "C:\\Users\\asus\\Anaconda3\\lib\\site-packages\\sklearn\\base.py:213: FutureWarning: From version 0.24, get_params will raise an AttributeError if a parameter cannot be retrieved as an instance attribute. Previously it would return None.\n",
      "  FutureWarning)\n"
     ]
    },
    {
     "data": {
      "image/png": "[encoded data removed]",
      "text/plain": [
       "<matplotlib.figure.Figure at 0x1ff3c9b2438>"
      ]
     },
     "metadata": {},
     "output_type": "display_data"
    },
    {
     "data": {
      "text/plain": [
       "<matplotlib.axes._subplots.AxesSubplot at 0x1ff3c6a0630>"
      ]
     },
     "execution_count": 129,
     "metadata": {},
     "output_type": "execute_result"
    }
   ],
   "source": [
    "cm = ConfusionMatrix(clf)\n",
    "cm.fit(X2_train, y2_train)\n",
    "cm.score(X2_test, y2_test)\n",
    "cm.show()"
   ]
  },
  {
   "cell_type": "markdown",
   "metadata": {},
   "source": [
    "Calculamos las principales métricas del modelo:"
   ]
  },
  {
   "cell_type": "code",
   "execution_count": 130,
   "metadata": {},
   "outputs": [
    {
     "name": "stdout",
     "output_type": "stream",
     "text": [
      "Precision 0.620\n",
      "Recall 0.620\n",
      "F1_score 0.620\n",
      "Balanced accuracy: 0.563\n"
     ]
    }
   ],
   "source": [
    "print('Precision {:.3f}'.format(precision_score(y2_test, y_pred, average='micro')))\n",
    "print('Recall {:.3f}'.format(recall_score(y2_test, y_pred, average='micro')))\n",
    "print('F1_score {:.3f}'.format(f1_score(y2_test, y_pred, average='micro')))\n",
    "print('Balanced accuracy: {:.3f}'.format(balanced_accuracy_score(y2_test, y_pred)))"
   ]
  },
  {
   "cell_type": "markdown",
   "metadata": {},
   "source": [
    "Representamos la **curva ROC** para cada clase, para ver el **trade-off** entre verdaderos positivos capturados VS falsos positivos capturados:"
   ]
  },
  {
   "cell_type": "code",
   "execution_count": 131,
   "metadata": {},
   "outputs": [
    {
     "name": "stderr",
     "output_type": "stream",
     "text": [
      "C:\\Users\\asus\\Anaconda3\\lib\\site-packages\\sklearn\\base.py:213: FutureWarning: From version 0.24, get_params will raise an AttributeError if a parameter cannot be retrieved as an instance attribute. Previously it would return None.\n",
      "  FutureWarning)\n"
     ]
    },
    {
     "data": {
      "image/png": "[encoded data removed]",
      "text/plain": [
       "<matplotlib.figure.Figure at 0x1ff3c9655f8>"
      ]
     },
     "metadata": {},
     "output_type": "display_data"
    },
    {
     "data": {
      "text/plain": [
       "<matplotlib.axes._subplots.AxesSubplot at 0x1ff3c698518>"
      ]
     },
     "execution_count": 131,
     "metadata": {},
     "output_type": "execute_result"
    }
   ],
   "source": [
    "visualizer = ROCAUC(clf)\n",
    "visualizer.fit(X2_train, y2_train)    \n",
    "visualizer.score(X2_test, y2_test)        \n",
    "visualizer.show()"
   ]
  },
  {
   "cell_type": "markdown",
   "metadata": {},
   "source": [
    "Veamos el error de clasificación para cada clase:"
   ]
  },
  {
   "cell_type": "code",
   "execution_count": 132,
   "metadata": {},
   "outputs": [
    {
     "name": "stderr",
     "output_type": "stream",
     "text": [
      "C:\\Users\\asus\\Anaconda3\\lib\\site-packages\\sklearn\\base.py:213: FutureWarning: From version 0.24, get_params will raise an AttributeError if a parameter cannot be retrieved as an instance attribute. Previously it would return None.\n",
      "  FutureWarning)\n"
     ]
    },
    {
     "data": {
      "image/png": "[encoded data removed]",
      "text/plain": [
       "<matplotlib.figure.Figure at 0x1ff3cda18d0>"
      ]
     },
     "metadata": {},
     "output_type": "display_data"
    },
    {
     "data": {
      "text/plain": [
       "<matplotlib.axes._subplots.AxesSubplot at 0x1ff4011cf28>"
      ]
     },
     "execution_count": 132,
     "metadata": {},
     "output_type": "execute_result"
    }
   ],
   "source": [
    "visualizer = ClassPredictionError(clf)\n",
    "visualizer.fit(X2_train, y2_train)\n",
    "visualizer.score(X2_test, y2_test)\n",
    "visualizer.show()"
   ]
  },
  {
   "cell_type": "markdown",
   "metadata": {},
   "source": [
    "Y finalmente representamos la importancia de cada variable en cuanto a su varianza explicada de cara a clasificar la variable objetivo:"
   ]
  },
  {
   "cell_type": "code",
   "execution_count": 133,
   "metadata": {},
   "outputs": [
    {
     "name": "stderr",
     "output_type": "stream",
     "text": [
      "C:\\Users\\asus\\Anaconda3\\lib\\site-packages\\sklearn\\base.py:213: FutureWarning: From version 0.24, get_params will raise an AttributeError if a parameter cannot be retrieved as an instance attribute. Previously it would return None.\n",
      "  FutureWarning)\n"
     ]
    },
    {
     "data": {
      "image/png": "[encoded data removed]",
      "text/plain": [
       "<matplotlib.figure.Figure at 0x1ff3cdd4588>"
      ]
     },
     "metadata": {},
     "output_type": "display_data"
    },
    {
     "data": {
      "text/plain": [
       "<matplotlib.axes._subplots.AxesSubplot at 0x1ff40194e10>"
      ]
     },
     "execution_count": 133,
     "metadata": {},
     "output_type": "execute_result"
    }
   ],
   "source": [
    "viz = FeatureImportances(clf)\n",
    "viz.fit(X_train.drop(columns=['id_partido', 'ganador', 'temporada', 'id_equipo_local', 'id_equipo_visitante']), y_train)\n",
    "viz.show()"
   ]
  },
  {
   "cell_type": "markdown",
   "metadata": {},
   "source": [
    "## Conclusiones y posibles mejoras"
   ]
  },
  {
   "cell_type": "markdown",
   "metadata": {},
   "source": [
    "Una vez finalizado el modelo podemos ver que tiende a clasificar de manera errónea la mayor parte de los partidos que finalizan con empate como podemos obervar en su correspondiente curva ROC. Esto puede deberse al **desbalanceo** de las clases, ya que las victorias locales poseen casi el doble de observaciones que las otras dos clases. Una de las posibles soluciones para esta casuística sería **bajomuestrear** la clase mayoritaria y entrenar el modelo con el mismo número de obervaciones para cada clase, ponderando posteriormente la clase bajomuestreada.\n",
    "\n",
    "Además disponemos de multitud de eventos y subtipos, por lo que añadiendo nuevas variables a partir de estos eventos así como información de históricos sobre subtipos podríamos incrementar de manera significativa la métrica objetivo.\n",
    "\n",
    "En este ejercicio se probó también un modelo de **Gradient Boosting** obteniendo unos resultados ligeramente inferiores en cuanto a la métrica elegida, por lo que se decidió finalmente implementar el modelo de Random Forest."
   ]
  },
  {
   "cell_type": "markdown",
   "metadata": {},
   "source": [
    "## Test submission"
   ]
  },
  {
   "cell_type": "code",
   "execution_count": 146,
   "metadata": {
    "collapsed": true
   },
   "outputs": [],
   "source": [
    "submission = pd.DataFrame({'id': Y['id_partido'].values, 'prediction': clf.predict(Y.drop(columns=['id_partido', 'id_equipo_local', 'id_equipo_visitante']))})\n",
    "submission.to_csv('C:/Users/asus/Desktop/ultimo4.csv', index=False)"
   ]
  },
  {
   "cell_type": "code",
   "execution_count": 134,
   "metadata": {
    "collapsed": true
   },
   "outputs": [],
   "source": [
    "## Goles ##\n",
    "\n",
    "df_test = test_matches[['id_partido', 'id_equipo_local', 'id_equipo_visitante']]\n",
    "test_goles_local = df_test.merge(\n",
    "    goles, \n",
    "    how='left', \n",
    "    left_on=['id_partido', 'id_equipo_local'], \n",
    "    right_on=['id_partido', 'id_equipo'])\n",
    "test_goles_local = test_goles_local.rename(columns={'goles':'goles_local'})\n",
    "test_goles_visitante = df_test.merge(\n",
    "    goles, \n",
    "    how='left', \n",
    "    left_on=['id_partido', 'id_equipo_visitante'], \n",
    "    right_on=['id_partido', 'id_equipo'])\n",
    "test_goles_visitante = test_goles_visitante.rename(columns={'goles':'goles_visitante'})\n",
    "test_goles = test_goles_local[['id_partido', 'goles_local']].merge(\n",
    "    test_goles_visitante[['id_partido', 'goles_visitante']], \n",
    "    how='inner', \n",
    "    on='id_partido')\n",
    "test_goles = test_goles.fillna(0)\n",
    "test_goles['ganador_descanso'] = test_goles.apply(\n",
    "    lambda x: 1 if x['goles_local']>x['goles_visitante'] \n",
    "    else (2 if x['goles_local']<x['goles_visitante'] \n",
    "          else 0), axis=1)\n",
    "test_goles['diferencia_goles'] = test_goles['goles_local']-test_goles['goles_visitante']\n",
    "\n",
    "\n",
    "## Centros ##\n",
    "\n",
    "test_centros_local = df_test.merge(\n",
    "    centros, \n",
    "    how='left', \n",
    "    left_on=['id_partido', 'id_equipo_local'], \n",
    "    right_on=['id_partido', 'id_equipo'])\n",
    "test_centros_local = test_centros_local.rename(columns={'centros':'centros_local'})\n",
    "test_centros_visitante = df_test.merge(\n",
    "    centros, \n",
    "    how='left', \n",
    "    left_on=['id_partido', 'id_equipo_visitante'], \n",
    "    right_on=['id_partido', 'id_equipo'])\n",
    "test_centros_visitante = test_centros_visitante.rename(columns={'centros':'centros_visitante'})\n",
    "test_centros = test_centros_local[['id_partido', 'centros_local']].merge(\n",
    "    test_centros_visitante[['id_partido', 'centros_visitante']], \n",
    "    how='inner', \n",
    "    on='id_partido')\n",
    "test_centros = test_centros.fillna(0)\n",
    "\n",
    "## Faltas ##\n",
    "\n",
    "test_faltas_local = df_test.merge(\n",
    "    faltas, \n",
    "    how='left', \n",
    "    left_on=['id_partido', 'id_equipo_local'], \n",
    "    right_on=['id_partido', 'id_equipo'])\n",
    "test_faltas_local = test_faltas_local.rename(columns={'faltas':'faltas_local'})\n",
    "test_faltas_visitante = df_test.merge(\n",
    "    faltas, \n",
    "    how='left', \n",
    "    left_on=['id_partido', 'id_equipo_visitante'], \n",
    "    right_on=['id_partido', 'id_equipo'])\n",
    "test_faltas_visitante = test_faltas_visitante.rename(columns={'faltas':'faltas_visitante'})\n",
    "test_faltas = test_faltas_local[['id_partido', 'faltas_local']].merge(\n",
    "    test_faltas_visitante[['id_partido', 'faltas_visitante']], \n",
    "    how='inner', \n",
    "    on='id_partido')\n",
    "test_faltas = test_faltas.fillna(0)\n",
    "\n",
    "## Tiros a porteria ##\n",
    "\n",
    "test_porteria_local = df_test.merge(\n",
    "    tiros_porteria, \n",
    "    how='left', \n",
    "    left_on=['id_partido', 'id_equipo_local'], \n",
    "    right_on=['id_partido', 'id_equipo'])\n",
    "test_porteria_local = test_porteria_local.rename(columns={'tiros_porteria':'porteria_local'})\n",
    "test_porteria_visitante = df_test.merge(\n",
    "    tiros_porteria, \n",
    "    how='left', \n",
    "    left_on=['id_partido', 'id_equipo_visitante'], \n",
    "    right_on=['id_partido', 'id_equipo'])\n",
    "test_porteria_visitante = test_porteria_visitante.rename(columns={'tiros_porteria':'porteria_visitante'})\n",
    "test_porteria = test_porteria_local[['id_partido', 'porteria_local']].merge(\n",
    "    test_porteria_visitante[['id_partido', 'porteria_visitante']], \n",
    "    how='inner', \n",
    "    on='id_partido')\n",
    "test_porteria = test_porteria.fillna(0)\n",
    "\n",
    "## Tiros fuera ##\n",
    "\n",
    "test_fuera_local = df_test.merge(\n",
    "    tiros_fuera, \n",
    "    how='left', \n",
    "    left_on=['id_partido', 'id_equipo_local'], \n",
    "    right_on=['id_partido', 'id_equipo'])\n",
    "test_fuera_local = test_fuera_local.rename(columns={'tiros_fuera':'fuera_local'})\n",
    "test_fuera_visitante = df_test.merge(\n",
    "    tiros_fuera, \n",
    "    how='left', \n",
    "    left_on=['id_partido', 'id_equipo_visitante'], \n",
    "    right_on=['id_partido', 'id_equipo'])\n",
    "test_fuera_visitante = test_fuera_visitante.rename(columns={'tiros_fuera':'fuera_visitante'})\n",
    "test_fuera = test_fuera_local[['id_partido', 'fuera_local']].merge(\n",
    "    test_fuera_visitante[['id_partido', 'fuera_visitante']], \n",
    "    how='inner', \n",
    "    on='id_partido')\n",
    "test_fuera = test_fuera.fillna(0)\n",
    "\n",
    "## Tarjetas amarillas ##\n",
    "\n",
    "df_amarillas_local = df_test.merge(\n",
    "    amarillas, \n",
    "    how='left', \n",
    "    left_on=['id_partido', 'id_equipo_local'], \n",
    "    right_on=['id_partido', 'id_equipo'])\n",
    "\n",
    "df_amarillas_local = df_amarillas_local.rename(columns={'amarillas':'amarillas_local'})\n",
    "df_amarillas_visitante = df_test.merge(\n",
    "    amarillas, \n",
    "    how='left', \n",
    "    left_on=['id_partido', 'id_equipo_visitante'], \n",
    "    right_on=['id_partido', 'id_equipo'])\n",
    "df_amarillas_visitante = df_amarillas_visitante.rename(columns={'amarillas':'amarillas_visitante'})\n",
    "df_amarillas = df_amarillas_local[['id_partido', 'amarillas_local']].merge(\n",
    "    df_amarillas_visitante[['id_partido', 'amarillas_visitante']], \n",
    "    how='inner', \n",
    "    on='id_partido')\n",
    "df_amarillas = df_amarillas.fillna(0)\n",
    "\n",
    "## Expulsiones ##\n",
    "\n",
    "df_rojas_local = df_test.merge(\n",
    "    rojas, \n",
    "    how='left', \n",
    "    left_on=['id_partido', 'id_equipo_local'], \n",
    "    right_on=['id_partido', 'id_equipo'])\n",
    "df_rojas_local = df_rojas_local.rename(columns={'rojas':'rojas_local'})\n",
    "df_rojas_visitante = df_test.merge(\n",
    "    rojas, \n",
    "    how='left', \n",
    "    left_on=['id_partido', 'id_equipo_visitante'], \n",
    "    right_on=['id_partido', 'id_equipo'])\n",
    "df_rojas_visitante = df_rojas_visitante.rename(columns={'rojas':'rojas_visitante'})\n",
    "df_rojas = df_rojas_local[['id_partido', 'rojas_local']].merge(\n",
    "    df_rojas_visitante[['id_partido', 'rojas_visitante']], \n",
    "    how='inner', \n",
    "    on='id_partido')\n",
    "df_rojas = df_rojas.fillna(0)\n",
    "\n",
    "## Corners ##\n",
    "\n",
    "df_corners_local = df_test.merge(\n",
    "    corners, \n",
    "    how='left', \n",
    "    left_on=['id_partido', 'id_equipo_local'], \n",
    "    right_on=['id_partido', 'id_equipo'])\n",
    "df_corners_local = df_corners_local.rename(columns={'corners':'corners_local'})\n",
    "df_corners_visitante = df_test.merge(\n",
    "    corners, \n",
    "    how='left', \n",
    "    left_on=['id_partido', 'id_equipo_visitante'], \n",
    "    right_on=['id_partido', 'id_equipo'])\n",
    "df_corners_visitante = df_corners_visitante.rename(columns={'corners':'corners_visitante'})\n",
    "df_corners = df_corners_local[['id_partido', 'corners_local']].merge(\n",
    "    df_corners_visitante[['id_partido', 'corners_visitante']], \n",
    "    how='inner', \n",
    "    on='id_partido')\n",
    "df_corners = df_corners.fillna(0)\n",
    "\n",
    "## Historico local ##\n",
    "\n",
    "partidos_local = df_test.groupby('id_equipo_local').size().reset_index(name='partidos_local')\n",
    "victorias_local = df_train[df_train.ganador==1].groupby('id_equipo_local').size().reset_index(name='victorias_local')\n",
    "derrotas_local = df_train[df_train.ganador==2].groupby('id_equipo_local').size().reset_index(name='derrotas_local')\n",
    "empates_local = df_train[df_train.ganador==0].groupby('id_equipo_local').size().reset_index(name='empates_local')\n",
    "historico_local = partidos_local.merge(victorias_local, how='left', on='id_equipo_local')\n",
    "historico_local = historico_local.merge(derrotas_local, how='left', on='id_equipo_local')\n",
    "historico_local = historico_local.merge(empates_local, how='left', on='id_equipo_local')\n",
    "historico_local['ratio_victorias_local'] = historico_local['victorias_local']/historico_local['partidos_local']\n",
    "historico_local['ratio_derrotas_local'] = historico_local['derrotas_local']/historico_local['partidos_local']\n",
    "historico_local['ratio_empates_local'] = historico_local['empates_local']/historico_local['partidos_local']\n",
    "\n",
    "## Historico visitante ##\n",
    "\n",
    "partidos_visitante = df_test.groupby('id_equipo_visitante').size().reset_index(name='partidos_visitante')\n",
    "victorias_visitante = df_train[df_train.ganador==2].groupby('id_equipo_visitante').size().reset_index(name='victorias_visitante')\n",
    "derrotas_visitante = df_train[df_train.ganador==1].groupby('id_equipo_visitante').size().reset_index(name='derrotas_visitante')\n",
    "empates_visitante = df_train[df_train.ganador==0].groupby('id_equipo_visitante').size().reset_index(name='empates_visitante')\n",
    "historico_visitante = partidos_visitante.merge(victorias_visitante, how='left', on='id_equipo_visitante')\n",
    "historico_visitante = historico_visitante.merge(derrotas_visitante, how='left', on='id_equipo_visitante')\n",
    "historico_visitante = historico_visitante.merge(empates_visitante, how='left', on='id_equipo_visitante')\n",
    "historico_visitante['ratio_victorias_visitante'] = historico_visitante['victorias_visitante']/historico_visitante['partidos_visitante']\n",
    "historico_visitante['ratio_derrotas_visitante'] = historico_visitante['derrotas_visitante']/historico_visitante['partidos_visitante']\n",
    "historico_visitante['ratio_empates_visitante'] = historico_visitante['empates_visitante']/historico_visitante['partidos_visitante']"
   ]
  },
  {
   "cell_type": "code",
   "execution_count": 135,
   "metadata": {
    "collapsed": true
   },
   "outputs": [],
   "source": [
    "Y = test_goles.merge(test_centros, how='inner', on='id_partido')\n",
    "Y = Y.merge(test_faltas, how='inner', on='id_partido')\n",
    "Y = Y.merge(test_porteria, how='inner', on='id_partido')\n",
    "Y = Y.merge(test_fuera, how='inner', on='id_partido')\n",
    "Y = Y.merge(df_amarillas, how='inner', on='id_partido')\n",
    "Y = Y.merge(df_rojas, how='inner', on='id_partido')\n",
    "Y = Y.merge(df_corners, how='inner', on='id_partido')\n",
    "Y = Y.merge(df_test[['id_partido', 'id_equipo_local', 'id_equipo_visitante']], how='left', on='id_partido')\n",
    "Y = Y.merge(historico_local[['ratio_victorias_local', 'ratio_derrotas_local', 'ratio_empates_local', 'id_equipo_local']],\n",
    "            how='left', on='id_equipo_local')\n",
    "Y = Y.merge(historico_visitante[['ratio_victorias_visitante', 'ratio_derrotas_visitante', 'ratio_empates_visitante', 'id_equipo_visitante']],\n",
    "            how='left', on='id_equipo_visitante')\n",
    "Y = Y.merge(k2, how='left', left_on='id_equipo_local', right_on='id_equipo')\n",
    "Y = Y.rename(columns={'media_goles':'media_goles_local'})\n",
    "Y = Y.drop(columns='id_equipo')\n",
    "Y = Y.merge(k2, how='left', left_on='id_equipo_visitante', right_on='id_equipo')\n",
    "Y = Y.rename(columns={'media_goles':'media_goles_visitante'})\n",
    "Y = Y.drop(columns='id_equipo')\n",
    "Y = Y.merge(t2, how='left', left_on='id_equipo_local', right_on='id_equipo')\n",
    "Y = Y.rename(columns={'media_tiros_porteria':'media_tiros_porteria_local'})\n",
    "Y = Y.drop(columns='id_equipo')\n",
    "Y = Y.merge(t2, how='left', left_on='id_equipo_visitante', right_on='id_equipo')\n",
    "Y = Y.rename(columns={'media_tiros_porteria':'media_tiros_porteria_visitante'})\n",
    "Y = Y.drop(columns='id_equipo')\n",
    "Y = Y.merge(c2, how='left', left_on='id_equipo_local', right_on='id_equipo')\n",
    "Y = Y.rename(columns={'media_centros':'media_centros_local'})\n",
    "Y = Y.drop(columns='id_equipo')\n",
    "Y = Y.merge(c2, how='left', left_on='id_equipo_visitante', right_on='id_equipo')\n",
    "Y = Y.rename(columns={'media_centros':'media_centros_visitante'})\n",
    "Y = Y.drop(columns='id_equipo')\n",
    "Y = Y.merge(m1, \n",
    "            how='left', \n",
    "            left_on=['id_partido', 'id_equipo_local'], \n",
    "            right_on=['id_partido', 'id_equipo'])\n",
    "Y = Y.rename(columns={'min_primer_gol':'min_primer_gol_local'})\n",
    "Y = Y.drop(columns='id_equipo')\n",
    "Y = Y.merge(m1, \n",
    "            how='left', \n",
    "            left_on=['id_partido', 'id_equipo_visitante'], \n",
    "            right_on=['id_partido', 'id_equipo'])\n",
    "Y = Y.rename(columns={'min_primer_gol':'min_primer_gol_visitante'})\n",
    "Y = Y.drop(columns='id_equipo')\n",
    "\n",
    "\n",
    "Y[['ratio_victorias_local', 'ratio_derrotas_local', 'ratio_empates_local', 'ratio_victorias_visitante', \n",
    "   'ratio_derrotas_visitante', 'ratio_empates_visitante', 'media_goles_local', 'media_goles_visitante', \n",
    "   'media_tiros_porteria_local', 'media_tiros_porteria_visitante', 'media_centros_local', \n",
    "   'media_centros_visitante']] = Y[['ratio_victorias_local', 'ratio_derrotas_local', 'ratio_empates_local', \n",
    "                                    'ratio_victorias_visitante', 'ratio_derrotas_visitante', 'ratio_empates_visitante', \n",
    "                                    'media_goles_local', 'media_goles_visitante', 'media_tiros_porteria_local', \n",
    "                                    'media_tiros_porteria_visitante', 'media_centros_local', \n",
    "                                    'media_centros_visitante']].fillna(0) \n",
    "\n",
    "Y[['min_primer_gol_local', 'min_primer_gol_visitante']] = Y[['min_primer_gol_local', \n",
    "                                                             'min_primer_gol_visitante']].fillna(999)"
   ]
  }
 ],
 "metadata": {
  "kernelspec": {
   "display_name": "Python 3",
   "language": "python",
   "name": "python3"
  },
  "language_info": {
   "codemirror_mode": {
    "name": "ipython",
    "version": 3
   },
   "file_extension": ".py",
   "mimetype": "text/x-python",
   "name": "python",
   "nbconvert_exporter": "python",
   "pygments_lexer": "ipython3",
   "version": "3.6.10"
  }
 },
 "nbformat": 4,
 "nbformat_minor": 2
}
